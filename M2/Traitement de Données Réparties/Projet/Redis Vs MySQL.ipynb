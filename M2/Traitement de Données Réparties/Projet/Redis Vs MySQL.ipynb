{
 "cells": [
  {
   "cell_type": "code",
   "execution_count": 1,
   "metadata": {},
   "outputs": [
    {
     "name": "stdout",
     "output_type": "stream",
     "text": [
      "Requirement already satisfied: redis in ./venv/lib/python3.7/site-packages (3.2.1)\n",
      "Requirement already satisfied: pymysql in ./venv/lib/python3.7/site-packages (0.9.3)\n"
     ]
    }
   ],
   "source": [
    "!pip install redis\n",
    "!pip install pymysql"
   ]
  },
  {
   "cell_type": "code",
   "execution_count": 2,
   "metadata": {},
   "outputs": [
    {
     "name": "stdout",
     "output_type": "stream",
     "text": [
      "mysql: [Warning] Using a password on the command line interface can be insecure.\n",
      "(('foo', 2019, 'bar', 'baz'),)\n",
      "True\n",
      "b'bar'\n",
      "1\n",
      "None\n"
     ]
    }
   ],
   "source": [
    "import redis, json, time, pymysql\n",
    "DB_Redis = redis.Redis(host='localhost', port=6379, db=0)\n",
    "DB_MYSQL = pymysql.connect(\"localhost\",\"tdr\",\"tdr\", \"tdr\")\n",
    "\n",
    "!mysql -utdr -ptdr tdr < db.sql\n",
    "\n",
    "def empty_mysql(table=\"films\"):\n",
    "    cur = DB_MYSQL.cursor()\n",
    "    cur.execute('DELETE FROM {} WHERE 1=1'.format(table))\n",
    "    DB_MYSQL.commit()\n",
    "    cur.close()\n",
    "\n",
    "def empty_redis(table = \"\"):\n",
    "    if table.strip() == \"\":\n",
    "        return DB_Redis.flushall()\n",
    "    else:\n",
    "        return DB_Redis.delete(*DB_Redis.keys(\"{}:*\".format(table)))\n",
    "\n",
    "cur = DB_MYSQL.cursor()\n",
    "cur.execute(\"INSERT INTO films (title,year,genre_list,cast_list) VALUES('foo', 2019, 'bar', 'baz')\")\n",
    "DB_MYSQL.commit()\n",
    "cur.close()\n",
    "cur = DB_MYSQL.cursor()\n",
    "cur.execute('SELECT title,year,genre_list,cast_list FROM films')\n",
    "print(cur.fetchall())\n",
    "cur.close()\n",
    "empty_mysql()\n",
    "print(DB_Redis.set('foo','bar'))\n",
    "print(DB_Redis.get('foo'))\n",
    "print(DB_Redis.delete('foo'))\n",
    "print(DB_Redis.get('foo'))"
   ]
  },
  {
   "cell_type": "code",
   "execution_count": 3,
   "metadata": {},
   "outputs": [
    {
     "name": "stdout",
     "output_type": "stream",
     "text": [
      "{'title': 'After Dark in Central Park', 'year': 1900, 'cast': [], 'genres': []}\n"
     ]
    }
   ],
   "source": [
    "with open('movies.json') as f:\n",
    "    datas_temp = json.load(f)\n",
    "\n",
    "#Suppression des doublons\n",
    "datas_json = []\n",
    "keys = []\n",
    "for film in datas_temp:\n",
    "    if film['title'] not in keys:\n",
    "        keys.append(film['title'])\n",
    "        datas_json.append(film)\n",
    "print(datas_json[0])"
   ]
  },
  {
   "cell_type": "code",
   "execution_count": 4,
   "metadata": {},
   "outputs": [
    {
     "name": "stdout",
     "output_type": "stream",
     "text": [
      "Nombre de clés Redis après nettoyage : 0 \n",
      "Insertions de 26791 films dans Redis : 1.4719 secondes\n",
      "26791 films dans Redis\n"
     ]
    }
   ],
   "source": [
    "empty_redis()\n",
    "print(\"Nombre de clés Redis après nettoyage : {} \".format(len(DB_Redis.keys('*'))))\n",
    "t = time.time()\n",
    "for film in datas_json:\n",
    "    DB_Redis.set('films:{}'.format(film['title']), json.dumps(film))\n",
    "t = time.time() - t\n",
    "print('Insertions de {} films dans Redis : {:0.04f} secondes'.format(len(datas_json), t))\n",
    "\n",
    "print('{} films dans Redis'.format(len(DB_Redis.keys('films:*'))))\n",
    "#avatar = json.loads(DB_Redis.get('Avatar'))\n",
    "#print(avatar['year'])"
   ]
  },
  {
   "cell_type": "code",
   "execution_count": 5,
   "metadata": {},
   "outputs": [],
   "source": [
    "def mysql_insert_update(sql,values=None):\n",
    "    try:\n",
    "        # create a new cursor\n",
    "        cur = DB_MYSQL.cursor()\n",
    "        if values is None:\n",
    "            cur.execute(sql)\n",
    "        elif isinstance(values, list):      \n",
    "            # execute the INSERT statement\n",
    "            cur.executemany(sql,values)\n",
    "        else:\n",
    "            cur.execute(sql,value)\n",
    "        # commit the changes to the database\n",
    "        DB_MYSQL.commit()\n",
    "        # close communication with the database\n",
    "        cur.close()\n",
    "    except (Exception) as error:\n",
    "        print(error)"
   ]
  },
  {
   "cell_type": "code",
   "execution_count": 6,
   "metadata": {},
   "outputs": [
    {
     "name": "stdout",
     "output_type": "stream",
     "text": [
      "('After Dark in Central Park', '1900', '[]', '[]')\n",
      "Insertions de 26791 films dans MySQL : 0.5843 secondes\n",
      "26791 films dans MySQL\n"
     ]
    }
   ],
   "source": [
    "empty_mysql()\n",
    "datas_tuple = []\n",
    "for film in datas_json:\n",
    "    datas_tuple.append((film['title'],str(film['year']),json.dumps(film['genres']),json.dumps(film['cast'])))\n",
    "print(datas_tuple[0])\n",
    "t = time.time()\n",
    "mysql_insert_update(\"INSERT INTO films(title,year,genre_list,cast_list) VALUES(%s,%s,%s,%s)\", datas_tuple)\n",
    "t = time.time() - t\n",
    "print('Insertions de {} films dans MySQL : {:0.04f} secondes'.format(len(datas_json), t))\n",
    "\n",
    "cur = DB_MYSQL.cursor()\n",
    "cur.execute('SELECT title,year,genre_list,cast_list FROM films')\n",
    "print('{} films dans MySQL'.format(cur.rowcount))\n",
    "cur.close()"
   ]
  },
  {
   "cell_type": "code",
   "execution_count": 7,
   "metadata": {},
   "outputs": [
    {
     "name": "stdout",
     "output_type": "stream",
     "text": [
      "1578 films commençant par A ou a dans Redis en 0.0435s\n",
      "1578 films commençant par A ou a dans MySQL en 0.0413s\n",
      "8 films avec Harry Potter dans Redis en 0.0058s\n",
      "8 films avec Harry Potter dans MySQL en 0.0147s\n"
     ]
    }
   ],
   "source": [
    "#Nombre de films commençant par A\n",
    "t = time.time()\n",
    "res = list(map(lambda film : json.loads(film), DB_Redis.mget(DB_Redis.keys(\"films:[Aa]*\"))))\n",
    "count = len(res)\n",
    "t = time.time() - t\n",
    "print(\"{} films commençant par A ou a dans Redis en {:0.04f}s\".format(count, t))\n",
    "    \n",
    "cur = DB_MYSQL.cursor()\n",
    "t = time.time()\n",
    "cur.execute(\"SELECT * FROM films WHERE title LIKE 'A%'\")\n",
    "t = time.time() - t\n",
    "print(\"{} films commençant par A ou a dans MySQL en {:0.04f}s\".format(cur.rowcount, t))\n",
    "cur.close()\n",
    "\n",
    "t = time.time()\n",
    "res = list(map(lambda film : json.loads(film), DB_Redis.mget(DB_Redis.keys(\"films:Harry Potter*\"))))\n",
    "count = len(res)\n",
    "t = time.time() - t\n",
    "print(\"{} films avec Harry Potter dans Redis en {:0.04f}s\".format(count, t))\n",
    "\n",
    "cur = DB_MYSQL.cursor()\n",
    "t = time.time()\n",
    "cur.execute(\"SELECT * FROM films WHERE title LIKE 'Harry Potter%'\")\n",
    "t = time.time() - t\n",
    "print(\"{} films avec Harry Potter dans MySQL en {:0.04f}s\".format(cur.rowcount, t))\n",
    "cur.close()"
   ]
  },
  {
   "cell_type": "code",
   "execution_count": null,
   "metadata": {},
   "outputs": [],
   "source": []
  }
 ],
 "metadata": {
  "kernelspec": {
   "display_name": "Python 3",
   "language": "python",
   "name": "python3"
  },
  "language_info": {
   "codemirror_mode": {
    "name": "ipython",
    "version": 3
   },
   "file_extension": ".py",
   "mimetype": "text/x-python",
   "name": "python",
   "nbconvert_exporter": "python",
   "pygments_lexer": "ipython3",
   "version": "3.7.1"
  }
 },
 "nbformat": 4,
 "nbformat_minor": 2
}
