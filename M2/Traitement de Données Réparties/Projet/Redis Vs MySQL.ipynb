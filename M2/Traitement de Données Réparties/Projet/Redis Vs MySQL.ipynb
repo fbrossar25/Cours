{
 "cells": [
  {
   "cell_type": "code",
   "execution_count": 1,
   "metadata": {},
   "outputs": [
    {
     "name": "stdout",
     "output_type": "stream",
     "text": [
      "Requirement already satisfied: redis in ./venv/lib/python3.7/site-packages (3.2.1)\n",
      "Requirement already satisfied: pymysql in ./venv/lib/python3.7/site-packages (0.9.3)\n"
     ]
    }
   ],
   "source": [
    "!pip install redis\n",
    "!pip install pymysql"
   ]
  },
  {
   "cell_type": "code",
   "execution_count": 2,
   "metadata": {},
   "outputs": [
    {
     "name": "stdout",
     "output_type": "stream",
     "text": [
      "mysql: [Warning] Using a password on the command line interface can be insecure.\n",
      "(('foo', 2019, 'bar', 'baz'),)\n",
      "True\n",
      "b'bar'\n",
      "1\n",
      "None\n"
     ]
    }
   ],
   "source": [
    "import redis, json, time, pymysql\n",
    "DB_Redis = redis.Redis(host='localhost', port=6379, db=0)\n",
    "DB_MYSQL = pymysql.connect(\"localhost\",\"tdr\",\"tdr\", \"tdr\")\n",
    "\n",
    "!mysql -utdr -ptdr tdr < db.sql\n",
    "\n",
    "def empty_mysql(table=\"films\"):\n",
    "    cur = DB_MYSQL.cursor()\n",
    "    cur.execute('DELETE FROM {} WHERE 1=1'.format(table))\n",
    "    DB_MYSQL.commit()\n",
    "    cur.close()\n",
    "\n",
    "def empty_redis(table = \"\"):\n",
    "    if table.strip() == \"\":\n",
    "        return DB_Redis.flushall()\n",
    "    else:\n",
    "        return DB_Redis.delete(*DB_Redis.keys(\"{}:*\".format(table)))\n",
    "\n",
    "cur = DB_MYSQL.cursor()\n",
    "cur.execute(\"INSERT INTO films (title,year,genre_list,cast_list) VALUES('foo', 2019, 'bar', 'baz')\")\n",
    "DB_MYSQL.commit()\n",
    "cur.close()\n",
    "cur = DB_MYSQL.cursor()\n",
    "cur.execute('SELECT title,year,genre_list,cast_list FROM films')\n",
    "print(cur.fetchall())\n",
    "cur.close()"
   ]
  },
  {
   "cell_type": "code",
   "execution_count": 3,
   "metadata": {},
   "outputs": [
    {
     "name": "stdout",
     "output_type": "stream",
     "text": [
      "{'title': 'After Dark in Central Park', 'year': 1900, 'cast': [], 'genres': []}\n"
     ]
    }
   ],
   "source": [
    "with open('movies.json') as f:\n",
    "    datas_temp = json.load(f)\n",
    "\n",
    "#Suppression des doublons\n",
    "datas_json = []\n",
    "keys = []\n",
    "for film in datas_temp:\n",
    "    if film['title'] not in keys:\n",
    "        keys.append(film['title'])\n",
    "        datas_json.append(film)\n",
    "print(datas_json[0])"
   ]
  },
  {
   "cell_type": "code",
   "execution_count": 13,
   "metadata": {},
   "outputs": [
    {
     "name": "stdout",
     "output_type": "stream",
     "text": [
      "Insertions de 26791 films dans Redis : 2.091 secondes\n"
     ]
    }
   ],
   "source": [
    "empty_redis()\n",
    "t = time.time()\n",
    "for film in datas_json:\n",
    "    DB_Redis.set('films:{}'.format(film['title']), json.dumps(film))\n",
    "t = time.time() - t\n",
    "print('Insertions de {} films dans Redis : {:0.03f} secondes'.format(len(datas_json), t))"
   ]
  },
  {
   "cell_type": "code",
   "execution_count": 5,
   "metadata": {},
   "outputs": [],
   "source": [
    "def mysql_insert_update(sql,values=None):\n",
    "    try:\n",
    "        # create a new cursor\n",
    "        cur = DB_MYSQL.cursor()\n",
    "        if values is None:\n",
    "            cur.execute(sql)\n",
    "        elif isinstance(values, list):      \n",
    "            # execute the INSERT statement\n",
    "            cur.executemany(sql,values)\n",
    "        else:\n",
    "            cur.execute(sql,value)\n",
    "        # commit the changes to the database\n",
    "        DB_MYSQL.commit()\n",
    "        # close communication with the database\n",
    "        cur.close()\n",
    "    except (Exception) as error:\n",
    "        print(error)"
   ]
  },
  {
   "cell_type": "code",
   "execution_count": 14,
   "metadata": {},
   "outputs": [
    {
     "name": "stdout",
     "output_type": "stream",
     "text": [
      "('After Dark in Central Park', '1900', '[]', '[]')\n",
      "Insertions de 26791 films dans MySQL : 0.286 secondes\n"
     ]
    }
   ],
   "source": [
    "empty_mysql()\n",
    "datas_tuple = []\n",
    "for film in datas_json:\n",
    "    datas_tuple.append((film['title'],str(film['year']),json.dumps(film['genres']),json.dumps(film['cast'])))\n",
    "print(datas_tuple[0])\n",
    "t = time.time()\n",
    "mysql_insert_update(\"INSERT INTO films(title,year,genre_list,cast_list) VALUES(%s,%s,%s,%s)\", datas_tuple)\n",
    "t = time.time() - t\n",
    "print('Insertions de {} films dans MySQL : {:0.03f} secondes'.format(len(datas_json), t))"
   ]
  },
  {
   "cell_type": "code",
   "execution_count": 28,
   "metadata": {},
   "outputs": [
    {
     "name": "stdout",
     "output_type": "stream",
     "text": [
      "Recherche des films commençant par A ou a avec MySQL : 17 films en 0.005 secondes\n",
      "['X Marks the Spot', 'X the Unknown', 'X-15', 'X: The Man with the X-ray Eyes', 'Xanadu', 'X-Men', 'xXx', 'X2: X-Men United', 'xXx: State of the Union', 'X-Men: The Last Stand', 'X Games 3D: The Movie', 'X-Men Origins: Wolverine', 'X-Men: First Class', 'X-Men: Days of Future Past', 'X-Men: Apocalypse', 'xXx: Return of Xander Cage', 'XX']\n"
     ]
    }
   ],
   "source": [
    "t = time.time()\n",
    "cur = DB_MYSQL.cursor()\n",
    "cur.execute(\"SELECT title FROM films WHERE title LIKE 'X%'\")\n",
    "films = list(map(lambda title : title[0], cur.fetchall()))\n",
    "t = time.time() - t\n",
    "print('Recherche des films commençant par A ou a avec MySQL : {} films en {:0.03f} secondes'.format(cur.rowcount, t))\n",
    "print(films)\n",
    "cur.close()"
   ]
  },
  {
   "cell_type": "code",
   "execution_count": 29,
   "metadata": {},
   "outputs": [
    {
     "name": "stdout",
     "output_type": "stream",
     "text": [
      "Recherche des films commençant par A ou a avec Redis : 17 films en 0.003 secondes\n",
      "['X-15', 'X-Men: The Last Stand', 'xXx', 'X-Men', 'X-Men: First Class', 'xXx: State of the Union', 'X2: X-Men United', 'XX', 'X: The Man with the X-ray Eyes', 'X-Men: Days of Future Past', 'X the Unknown', 'Xanadu', 'X-Men: Apocalypse', 'xXx: Return of Xander Cage', 'X Games 3D: The Movie', 'X Marks the Spot', 'X-Men Origins: Wolverine']\n"
     ]
    }
   ],
   "source": [
    "t = time.time()\n",
    "films = DB_Redis.mget(DB_Redis.keys(\"films:[xX]*\"))\n",
    "films = map(lambda x : json.loads(x), films)\n",
    "films = list(map(lambda x : x['title'], films))\n",
    "t = time.time() - t\n",
    "print('Recherche des films commençant par A ou a avec Redis : {} films en {:0.03f} secondes'.format(len(films), t))\n",
    "print(films)"
   ]
  },
  {
   "cell_type": "code",
   "execution_count": 7,
   "metadata": {},
   "outputs": [
    {
     "name": "stdout",
     "output_type": "stream",
     "text": [
      "Recherche des films avec Sean bean avec MySQL : 15 films en 0.016 secondes\n",
      "['Stormy Monday', 'Patriot Games', 'Ronin', \"Don't Say a Word\", 'The Lord of the Rings: The Fellowship of the Ring', 'Equilibrium', 'National Treasure', 'Flightplan', 'North Country', 'Silent Hill', 'Percy Jackson & the Olympians: The Lightning Thief', 'Mirror Mirror', 'Silent Hill: Revelation 3D', 'Jupiter Ascending', 'The Young Messiah']\n"
     ]
    }
   ],
   "source": [
    "t = time.time()\n",
    "cur = DB_MYSQL.cursor()\n",
    "cur.execute(\"SELECT title FROM films WHERE cast_list LIKE '%Sean Bean%'\")\n",
    "films = list(map(lambda title : title[0], cur.fetchall()))\n",
    "t = time.time() - t\n",
    "print('Recherche des films avec Sean bean avec MySQL : {} films en {:0.03f} secondes'.format(cur.rowcount, t))\n",
    "print(films)\n",
    "cur.close()"
   ]
  },
  {
   "cell_type": "code",
   "execution_count": 8,
   "metadata": {},
   "outputs": [
    {
     "name": "stdout",
     "output_type": "stream",
     "text": [
      "Recherche des films avec Sean bean avec Redis : 15 films en 0.229 secondes\n",
      "['The Lord of the Rings: The Fellowship of the Ring', 'Silent Hill', 'Silent Hill: Revelation 3D', 'Ronin', 'Jupiter Ascending', 'National Treasure', 'Stormy Monday', 'North Country', 'Patriot Games', 'Equilibrium', 'The Young Messiah', 'Flightplan', \"Don't Say a Word\", 'Percy Jackson & the Olympians: The Lightning Thief', 'Mirror Mirror']\n"
     ]
    }
   ],
   "source": [
    "t = time.time()\n",
    "films = DB_Redis.mget(DB_Redis.keys(\"films:*\"))\n",
    "films = map(lambda x : json.loads(x), films)\n",
    "films = filter(lambda x : 'Sean Bean' in x['cast'], films)\n",
    "films = list(map(lambda x : x['title'], films))\n",
    "t = time.time() - t\n",
    "print('Recherche des films avec Sean bean avec Redis : {} films en {:0.03f} secondes'.format(len(films), t))\n",
    "print(films)"
   ]
  },
  {
   "cell_type": "code",
   "execution_count": 9,
   "metadata": {},
   "outputs": [
    {
     "name": "stdout",
     "output_type": "stream",
     "text": [
      "Recherche des films sortis en 2001 avec MySQL : 212 films en 0.005 secondes\n",
      "['15 Minutes', '3 A.M.', '3000 Miles to Graceland', 'A.I. Artificial Intelligence', 'The Affair of the Necklace', 'Ali', 'All Over the Guy', 'Along Came a Spider', 'The Amati Girls', \"America's Sweethearts\"]\n"
     ]
    }
   ],
   "source": [
    "t = time.time()\n",
    "cur = DB_MYSQL.cursor()\n",
    "cur.execute(\"SELECT title FROM films WHERE year = 2001\")\n",
    "films = list(map(lambda title : title[0], cur.fetchall()))\n",
    "t = time.time() - t\n",
    "print('Recherche des films sortis en 2001 avec MySQL : {} films en {:0.03f} secondes'.format(cur.rowcount, t))\n",
    "print(films[0:10])\n",
    "cur.close()"
   ]
  },
  {
   "cell_type": "code",
   "execution_count": 10,
   "metadata": {},
   "outputs": [
    {
     "name": "stdout",
     "output_type": "stream",
     "text": [
      "Recherche des films sortis en 2001 avec Redis : 212 films en 0.229 secondes\n",
      "['Thirteen Conversations About One Thing', 'The Pledge', 'Jurassic Park III', 'The Lord of the Rings: The Fellowship of the Ring', 'Out Cold', 'K-PAX', 'The Zeros', 'Harvard Man', 'My Big Fat Greek Wedding', '15 Minutes']\n"
     ]
    }
   ],
   "source": [
    "t = time.time()\n",
    "films = DB_Redis.mget(DB_Redis.keys(\"films:*\"))\n",
    "films = map(lambda x : json.loads(x), films)\n",
    "films = filter(lambda x : 2001 == x['year'], films)\n",
    "films = list(map(lambda x : x['title'], films))\n",
    "t = time.time() - t\n",
    "print('Recherche des films sortis en 2001 avec Redis : {} films en {:0.03f} secondes'.format(len(films), t))\n",
    "print(films[0:10])"
   ]
  },
  {
   "cell_type": "code",
   "execution_count": 11,
   "metadata": {},
   "outputs": [
    {
     "name": "stdout",
     "output_type": "stream",
     "text": [
      "Mise à jour des années de sorties de 26791 films avec Redis en 2.438 secondes\n",
      "{'title': 'Avatar', 'year': 2010, 'cast': ['Sam Worthington', 'Zoe Saldana', 'Sigourney Weaver', 'Michelle Rodriguez', 'Stephen Lang', 'Laz Alonso', 'Giovanni Ribisi', 'Joel Moore', 'Wes Studi'], 'genres': ['Science Fiction']}\n"
     ]
    }
   ],
   "source": [
    "t = time.time()\n",
    "films = DB_Redis.mget(DB_Redis.keys(\"films:*\"))\n",
    "films = list(map(lambda x : json.loads(x), films))\n",
    "for film in films:\n",
    "    film['year'] = film['year'] + 1\n",
    "    DB_Redis.set(\"films:{}\".format(film['title']), json.dumps(film))\n",
    "t = time.time() - t\n",
    "print('Mise à jour des années de sorties de {} films avec Redis en {:0.03f} secondes'.format(len(films), t))\n",
    "print(json.loads(DB_Redis.get('films:Avatar')))"
   ]
  },
  {
   "cell_type": "code",
   "execution_count": 12,
   "metadata": {},
   "outputs": [
    {
     "name": "stdout",
     "output_type": "stream",
     "text": [
      "Mise à jour des années de sorties de 26791 avec MySQL en 0.297 secondes\n",
      "{'title': 'Avatar', 'year': 2010, 'genre_list': ['Science Fiction'], 'cast_list': ['Sam Worthington', 'Zoe Saldana', 'Sigourney Weaver', 'Michelle Rodriguez', 'Stephen Lang', 'Laz Alonso', 'Giovanni Ribisi', 'Joel Moore', 'Wes Studi']}\n"
     ]
    }
   ],
   "source": [
    "t = time.time()\n",
    "cur = DB_MYSQL.cursor()\n",
    "cur.execute(\"UPDATE films SET year = year + 1 WHERE 1=1\")\n",
    "cur.execute(\"SELECT * from films\")\n",
    "t = time.time() - t\n",
    "print('Mise à jour des années de sorties de {} avec MySQL en {:0.03f} secondes'.format(cur.rowcount, t))\n",
    "cur.execute(\"SELECT * FROM films WHERE title = 'Avatar'\")\n",
    "films = list(map(lambda film : {'title': film[1], 'year': film[2], 'genre_list': json.loads(film[3]), 'cast_list': json.loads(film[4])}, cur.fetchall()))\n",
    "print(films[0])\n",
    "cur.close()"
   ]
  },
  {
   "cell_type": "code",
   "execution_count": null,
   "metadata": {},
   "outputs": [],
   "source": []
  }
 ],
 "metadata": {
  "kernelspec": {
   "display_name": "Python 3",
   "language": "python",
   "name": "python3"
  },
  "language_info": {
   "codemirror_mode": {
    "name": "ipython",
    "version": 3
   },
   "file_extension": ".py",
   "mimetype": "text/x-python",
   "name": "python",
   "nbconvert_exporter": "python",
   "pygments_lexer": "ipython3",
   "version": "3.7.1"
  }
 },
 "nbformat": 4,
 "nbformat_minor": 2
}
