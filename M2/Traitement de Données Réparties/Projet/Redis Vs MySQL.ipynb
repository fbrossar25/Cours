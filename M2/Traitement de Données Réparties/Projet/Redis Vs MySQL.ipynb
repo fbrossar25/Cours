{
 "cells": [
  {
   "cell_type": "code",
   "execution_count": 1,
   "metadata": {},
   "outputs": [
    {
     "name": "stdout",
     "output_type": "stream",
     "text": [
      "Collecting redis\n",
      "  Using cached https://files.pythonhosted.org/packages/ac/a7/cff10cc5f1180834a3ed564d148fb4329c989cbb1f2e196fc9a10fa07072/redis-3.2.1-py2.py3-none-any.whl\n",
      "Installing collected packages: redis\n",
      "Successfully installed redis-3.2.1\n",
      "Collecting pymysql\n",
      "  Using cached https://files.pythonhosted.org/packages/ed/39/15045ae46f2a123019aa968dfcba0396c161c20f855f11dea6796bcaae95/PyMySQL-0.9.3-py2.py3-none-any.whl\n",
      "Installing collected packages: pymysql\n",
      "Successfully installed pymysql-0.9.3\n"
     ]
    }
   ],
   "source": [
    "!pip install redis\n",
    "!pip install pymysql"
   ]
  },
  {
   "cell_type": "code",
   "execution_count": 2,
   "metadata": {},
   "outputs": [
    {
     "name": "stdout",
     "output_type": "stream",
     "text": [
      "mysql: [Warning] Using a password on the command line interface can be insecure.\n",
      "(('foo', 2019, 'bar', 'baz'),)\n"
     ]
    }
   ],
   "source": [
    "import redis, json, time, pymysql\n",
    "DB_Redis = redis.Redis(host='localhost', port=6379, db=0)\n",
    "DB_MYSQL = pymysql.connect(\"localhost\",\"tdr\",\"tdr\", \"tdr\")\n",
    "\n",
    "!mysql -utdr -ptdr tdr < db.sql\n",
    "\n",
    "def empty_mysql(table=\"films\"):\n",
    "    cur = DB_MYSQL.cursor()\n",
    "    cur.execute('DELETE FROM {} WHERE 1=1'.format(table))\n",
    "    DB_MYSQL.commit()\n",
    "    cur.close()\n",
    "\n",
    "def empty_redis(table = \"\"):\n",
    "    if table.strip() == \"\":\n",
    "        return DB_Redis.flushall()\n",
    "    else:\n",
    "        return DB_Redis.delete(*DB_Redis.keys(\"{}:*\".format(table)))\n",
    "\n",
    "cur = DB_MYSQL.cursor()\n",
    "cur.execute(\"INSERT INTO films (title,year,genre_list,cast_list) VALUES('foo', 2019, 'bar', 'baz')\")\n",
    "DB_MYSQL.commit()\n",
    "cur.close()\n",
    "cur = DB_MYSQL.cursor()\n",
    "cur.execute('SELECT title,year,genre_list,cast_list FROM films')\n",
    "print(cur.fetchall())\n",
    "cur.close()"
   ]
  },
  {
   "cell_type": "code",
   "execution_count": 3,
   "metadata": {},
   "outputs": [
    {
     "name": "stdout",
     "output_type": "stream",
     "text": [
      "{'title': 'After Dark in Central Park', 'year': 1900, 'cast': [], 'genres': []}\n"
     ]
    }
   ],
   "source": [
    "with open('movies.json') as f:\n",
    "    datas_temp = json.load(f)\n",
    "\n",
    "#Suppression des doublons\n",
    "datas_json = []\n",
    "keys = []\n",
    "for film in datas_temp:\n",
    "    if film['title'] not in keys:\n",
    "        keys.append(film['title'])\n",
    "        datas_json.append(film)\n",
    "print(datas_json[0])"
   ]
  },
  {
   "cell_type": "code",
   "execution_count": 16,
   "metadata": {},
   "outputs": [
    {
     "name": "stdout",
     "output_type": "stream",
     "text": [
      "Insertions de 26791 films dans Redis : 2.293 secondes\n",
      "ERR Protocol error: unbalanced quotes in request\n",
      "^C\n",
      "Insertions bulk 26791 films dans Redis : 4.840 secondes\n"
     ]
    }
   ],
   "source": [
    "empty_redis()\n",
    "t = time.time()\n",
    "for film in datas_json:\n",
    "    DB_Redis.set('films:{}'.format(film['title']), json.dumps(film))\n",
    "t = time.time() - t\n",
    "print('Insertions de {} films dans Redis : {:0.03f} secondes'.format(len(datas_json), t))\n",
    "\n",
    "file = open(\"test.txt\", \"w\")\n",
    "for film in datas_json:\n",
    "    file.write(\"SET \\\"films:{}\\\" \\\"{}\\\"\\n\". format(film['title'], json.dumps(film)))\n",
    "t = time.time()\n",
    "!cat test.txt | redis-cli --pipe\n",
    "t = time.time() - t\n",
    "print('Insertions bulk {} films dans Redis : {:0.03f} secondes'.format(len(DB_Redis.keys('*')), t))"
   ]
  },
  {
   "cell_type": "code",
   "execution_count": 5,
   "metadata": {},
   "outputs": [],
   "source": [
    "def mysql_insert_update(sql,values=None):\n",
    "    try:\n",
    "        # create a new cursor\n",
    "        cur = DB_MYSQL.cursor()\n",
    "        if values is None:\n",
    "            cur.execute(sql)\n",
    "        elif isinstance(values, list):      \n",
    "            # execute the INSERT statement\n",
    "            cur.executemany(sql,values)\n",
    "        else:\n",
    "            cur.execute(sql,value)\n",
    "        # commit the changes to the database\n",
    "        DB_MYSQL.commit()\n",
    "        # close communication with the database\n",
    "        cur.close()\n",
    "    except (Exception) as error:\n",
    "        print(error)"
   ]
  },
  {
   "cell_type": "code",
   "execution_count": 6,
   "metadata": {},
   "outputs": [
    {
     "name": "stdout",
     "output_type": "stream",
     "text": [
      "('After Dark in Central Park', '1900', '[]', '[]')\n",
      "Insertions de 26791 films dans MySQL : 0.446 secondes\n"
     ]
    }
   ],
   "source": [
    "empty_mysql()\n",
    "datas_tuple = []\n",
    "for film in datas_json:\n",
    "    datas_tuple.append((film['title'],str(film['year']),json.dumps(film['genres']),json.dumps(film['cast'])))\n",
    "print(datas_tuple[0])\n",
    "t = time.time()\n",
    "mysql_insert_update(\"INSERT INTO films(title,year,genre_list,cast_list) VALUES(%s,%s,%s,%s)\", datas_tuple)\n",
    "t = time.time() - t\n",
    "print('Insertions de {} films dans MySQL : {:0.03f} secondes'.format(len(datas_json), t))"
   ]
  },
  {
   "cell_type": "code",
   "execution_count": 7,
   "metadata": {},
   "outputs": [
    {
     "name": "stdout",
     "output_type": "stream",
     "text": [
      "Recherche des films commençant par A ou a avec MySQL : 17 films en 0.009 secondes\n",
      "['X Marks the Spot', 'X the Unknown', 'X-15', 'X: The Man with the X-ray Eyes', 'Xanadu', 'X-Men', 'xXx', 'X2: X-Men United', 'xXx: State of the Union', 'X-Men: The Last Stand', 'X Games 3D: The Movie', 'X-Men Origins: Wolverine', 'X-Men: First Class', 'X-Men: Days of Future Past', 'X-Men: Apocalypse', 'xXx: Return of Xander Cage', 'XX']\n"
     ]
    }
   ],
   "source": [
    "t = time.time()\n",
    "cur = DB_MYSQL.cursor()\n",
    "cur.execute(\"SELECT title FROM films WHERE title LIKE 'X%'\")\n",
    "films = list(map(lambda title : title[0], cur.fetchall()))\n",
    "t = time.time() - t\n",
    "print('Recherche des films commençant par A ou a avec MySQL : {} films en {:0.03f} secondes'.format(cur.rowcount, t))\n",
    "print(films)\n",
    "cur.close()"
   ]
  },
  {
   "cell_type": "code",
   "execution_count": 8,
   "metadata": {},
   "outputs": [
    {
     "name": "stdout",
     "output_type": "stream",
     "text": [
      "Recherche des films commençant par A ou a avec Redis : 17 films en 0.004 secondes\n",
      "['X-Men: The Last Stand', 'xXx: State of the Union', 'xXx', 'X-Men: First Class', 'X Marks the Spot', 'X-Men', 'X-Men: Apocalypse', 'X Games 3D: The Movie', 'X: The Man with the X-ray Eyes', 'Xanadu', 'X-Men Origins: Wolverine', 'X-15', 'X-Men: Days of Future Past', 'X the Unknown', 'XX', 'X2: X-Men United', 'xXx: Return of Xander Cage']\n"
     ]
    }
   ],
   "source": [
    "t = time.time()\n",
    "films = DB_Redis.mget(DB_Redis.keys(\"films:[xX]*\"))\n",
    "films = map(lambda x : json.loads(x), films)\n",
    "films = list(map(lambda x : x['title'], films))\n",
    "t = time.time() - t\n",
    "print('Recherche des films commençant par A ou a avec Redis : {} films en {:0.03f} secondes'.format(len(films), t))\n",
    "print(films)"
   ]
  },
  {
   "cell_type": "code",
   "execution_count": 9,
   "metadata": {},
   "outputs": [
    {
     "name": "stdout",
     "output_type": "stream",
     "text": [
      "Recherche des films avec Sean bean avec MySQL : 15 films en 0.015 secondes\n",
      "['Stormy Monday', 'Patriot Games', 'Ronin', \"Don't Say a Word\", 'The Lord of the Rings: The Fellowship of the Ring', 'Equilibrium', 'National Treasure', 'Flightplan', 'North Country', 'Silent Hill', 'Percy Jackson & the Olympians: The Lightning Thief', 'Mirror Mirror', 'Silent Hill: Revelation 3D', 'Jupiter Ascending', 'The Young Messiah']\n"
     ]
    }
   ],
   "source": [
    "t = time.time()\n",
    "cur = DB_MYSQL.cursor()\n",
    "cur.execute(\"SELECT title FROM films WHERE cast_list LIKE '%Sean Bean%'\")\n",
    "films = list(map(lambda title : title[0], cur.fetchall()))\n",
    "t = time.time() - t\n",
    "print('Recherche des films avec Sean bean avec MySQL : {} films en {:0.03f} secondes'.format(cur.rowcount, t))\n",
    "print(films)\n",
    "cur.close()"
   ]
  },
  {
   "cell_type": "code",
   "execution_count": 10,
   "metadata": {},
   "outputs": [
    {
     "name": "stdout",
     "output_type": "stream",
     "text": [
      "Recherche des films avec Sean bean avec Redis : 15 films en 0.225 secondes\n",
      "['Patriot Games', 'Mirror Mirror', 'Silent Hill', 'Jupiter Ascending', 'Silent Hill: Revelation 3D', 'North Country', 'National Treasure', 'Ronin', 'The Young Messiah', 'Equilibrium', 'Percy Jackson & the Olympians: The Lightning Thief', \"Don't Say a Word\", 'The Lord of the Rings: The Fellowship of the Ring', 'Stormy Monday', 'Flightplan']\n"
     ]
    }
   ],
   "source": [
    "t = time.time()\n",
    "films = DB_Redis.mget(DB_Redis.keys(\"films:*\"))\n",
    "films = map(lambda x : json.loads(x), films)\n",
    "films = filter(lambda x : 'Sean Bean' in x['cast'], films)\n",
    "films = list(map(lambda x : x['title'], films))\n",
    "t = time.time() - t\n",
    "print('Recherche des films avec Sean bean avec Redis : {} films en {:0.03f} secondes'.format(len(films), t))\n",
    "print(films)"
   ]
  },
  {
   "cell_type": "code",
   "execution_count": 11,
   "metadata": {},
   "outputs": [
    {
     "name": "stdout",
     "output_type": "stream",
     "text": [
      "Recherche des films sortis en 2001 avec MySQL : 212 films en 0.006 secondes\n",
      "['15 Minutes', '3 A.M.', '3000 Miles to Graceland', 'A.I. Artificial Intelligence', 'The Affair of the Necklace', 'Ali', 'All Over the Guy', 'Along Came a Spider', 'The Amati Girls', \"America's Sweethearts\"]\n"
     ]
    }
   ],
   "source": [
    "t = time.time()\n",
    "cur = DB_MYSQL.cursor()\n",
    "cur.execute(\"SELECT title FROM films WHERE year = 2001\")\n",
    "films = list(map(lambda title : title[0], cur.fetchall()))\n",
    "t = time.time() - t\n",
    "print('Recherche des films sortis en 2001 avec MySQL : {} films en {:0.03f} secondes'.format(cur.rowcount, t))\n",
    "print(films[0:10])\n",
    "cur.close()"
   ]
  },
  {
   "cell_type": "code",
   "execution_count": 12,
   "metadata": {},
   "outputs": [
    {
     "name": "stdout",
     "output_type": "stream",
     "text": [
      "Recherche des films sortis en 2001 avec Redis : 212 films en 0.219 secondes\n",
      "['Hardball', 'Delivering Milo', 'Someone Like You', 'The Deep End', \"God Didn't Give Me a Week's Notice\", 'My Big Break', 'The Believer', 'Sugar & Spice', 'Crocodile Dundee in Los Angeles', 'Rat Race']\n"
     ]
    }
   ],
   "source": [
    "t = time.time()\n",
    "films = DB_Redis.mget(DB_Redis.keys(\"films:*\"))\n",
    "films = map(lambda x : json.loads(x), films)\n",
    "films = filter(lambda x : 2001 == x['year'], films)\n",
    "films = list(map(lambda x : x['title'], films))\n",
    "t = time.time() - t\n",
    "print('Recherche des films sortis en 2001 avec Redis : {} films en {:0.03f} secondes'.format(len(films), t))\n",
    "print(films[0:10])"
   ]
  },
  {
   "cell_type": "code",
   "execution_count": 13,
   "metadata": {},
   "outputs": [
    {
     "name": "stdout",
     "output_type": "stream",
     "text": [
      "Mise à jour des années de sorties de 26791 films avec Redis en 2.329 secondes\n",
      "{'title': 'Avatar', 'year': 2010, 'cast': ['Sam Worthington', 'Zoe Saldana', 'Sigourney Weaver', 'Michelle Rodriguez', 'Stephen Lang', 'Laz Alonso', 'Giovanni Ribisi', 'Joel Moore', 'Wes Studi'], 'genres': ['Science Fiction']}\n"
     ]
    }
   ],
   "source": [
    "t = time.time()\n",
    "films = DB_Redis.mget(DB_Redis.keys(\"films:*\"))\n",
    "films = list(map(lambda x : json.loads(x), films))\n",
    "for film in films:\n",
    "    film['year'] = film['year'] + 1\n",
    "    DB_Redis.set(\"films:{}\".format(film['title']), json.dumps(film))\n",
    "t = time.time() - t\n",
    "print('Mise à jour des années de sorties de {} films avec Redis en {:0.03f} secondes'.format(len(films), t))\n",
    "print(json.loads(DB_Redis.get('films:Avatar')))"
   ]
  },
  {
   "cell_type": "code",
   "execution_count": 14,
   "metadata": {},
   "outputs": [
    {
     "name": "stdout",
     "output_type": "stream",
     "text": [
      "Mise à jour des années de sorties de 26791 avec MySQL en 0.291 secondes\n",
      "{'title': 'Avatar', 'year': 2010, 'genre_list': ['Science Fiction'], 'cast_list': ['Sam Worthington', 'Zoe Saldana', 'Sigourney Weaver', 'Michelle Rodriguez', 'Stephen Lang', 'Laz Alonso', 'Giovanni Ribisi', 'Joel Moore', 'Wes Studi']}\n"
     ]
    }
   ],
   "source": [
    "t = time.time()\n",
    "cur = DB_MYSQL.cursor()\n",
    "cur.execute(\"UPDATE films SET year = year + 1 WHERE 1=1\")\n",
    "cur.execute(\"SELECT * from films\")\n",
    "t = time.time() - t\n",
    "print('Mise à jour des années de sorties de {} avec MySQL en {:0.03f} secondes'.format(cur.rowcount, t))\n",
    "cur.execute(\"SELECT * FROM films WHERE title = 'Avatar'\")\n",
    "films = list(map(lambda film : {'title': film[1], 'year': film[2], 'genre_list': json.loads(film[3]), 'cast_list': json.loads(film[4])}, cur.fetchall()))\n",
    "print(films[0])\n",
    "cur.close()"
   ]
  },
  {
   "cell_type": "code",
   "execution_count": 19,
   "metadata": {},
   "outputs": [
    {
     "name": "stdout",
     "output_type": "stream",
     "text": [
      "PING_INLINE: 20108.28 requests per second\n",
      "PING_BULK: 20186.34 requests per second\n",
      "SET: 19388.52 requests per second\n",
      "GET: 20233.46 requests per second\n",
      "INCR: 19862.49 requests per second\n",
      "LPUSH: 18895.35 requests per second\n",
      "RPUSH: 18584.70 requests per second\n",
      "LPOP: 18361.58 requests per second\n",
      "RPOP: 18922.85 requests per second\n",
      "SADD: 19862.49 requests per second\n",
      "HSET: 18745.49 requests per second\n",
      "SPOP: 19548.87 requests per second\n",
      "LPUSH (needed to benchmark LRANGE): 18426.65 requests per second\n",
      "LRANGE_100 (first 100 elements): 6550.77 requests per second\n",
      "LRANGE_300 (first 300 elements): 1891.05 requests per second\n",
      "LRANGE_500 (first 450 elements): 1161.03 requests per second\n",
      "LRANGE_600 (first 600 elements): 842.21 requests per second\n",
      "MSET (10 keys): 17356.47 requests per second\n",
      "\n"
     ]
    }
   ],
   "source": [
    "#Redis fournis sa propre commande de banchmark indiquant le nombre de requêtes éxécutées par secondes\n",
    "#ici le nombre de requêtes éxécuté par seconde avec une seule connexions et une tailles de données de 1024 caractères\n",
    "#pour les commandes GET et SET\n",
    "!redis-benchmark -h localhost -p 6379 -c 1 -n 26000 -q -d 1024"
   ]
  },
  {
   "cell_type": "markdown",
   "metadata": {},
   "source": [
    "# Comparaisons de performances\n",
    "Avec les quelques requêtes éxécutées ci-dessus, nous observons facilement une différence en terme de vitesse d'éxécution.\n",
    "\n",
    "N'ayant pas de gestion de structure de données propre incorporé dans Redis, les données sont accessibles via le langage python (ce qui bride la vitesse d'éxécution et donc les performances de Redis par la technologie et le temps d'éxécution de Python)\n",
    "\n",
    "On remarque que la seule fois où Redis est plus performant que MySQL est une recherche par regex dans les noms des films. On peut donc en déduire que l'on \"concurrence\" MySQL suivant comment sont agencées les clés valeurs. Autrement, ce genre de recherche serais potentiellement plus rapide si la clé portait l'information du titre du film (clé primaire) et du nom de la propriété recherchée (colonne).\n",
    "\n",
    "# Script LUA\n",
    "\n",
    "__Un interpréteur natif:__\n",
    "Redis permet l'insertion et l'utilisation de scrypt Lua. En effet, un interpréteur Lua est nativement fournis dans Redis depuis la version 2.6.0.\n",
    "\n",
    "Dans le cas d'un EVAL, le premier argument d'EVAL est un script Lua 5.1. Le script ne sert pas à définir une fonction Lua (et cela ne devrait pas être nécessaire). \n",
    "\n",
    "Cela permet notamment de mettre en place un programme Lua qui s’exécutera dans le contexte du serveur Redis.\n",
    "\n",
    "Le deuxième argument d'EVAL permet de spécifier les arguments qui suivent le script et représentent les noms des clés Redis. \n",
    "\n",
    "Lua peut accéder aux arguments à l’aide de la variable globale KEYS sous la forme d’un tableau basé sur un (par exemple, KEYS [1], KEYS [2], etc).\n",
    "\n",
    "# Transactions\n",
    "\n",
    "Certaines commande redis permettent les transactions. Le fonctionnement est le suivant:\n",
    "1. Démarrage d'un bloc de transaction avec la commande MULTI\n",
    "1. Saisie des commandes de la transactions (SET, GET, KEYS, ...)\n",
    "1. Éxécution des commandes saisies avec EXEC (équivalent du COMMIT en SQL)\n",
    "\n",
    "Redis met également à disposition la commande DISCARD, qui permet d'annuler toutes les commandes d'une transactions. C'est l'équivalent du ROLLBACK en SQL.\n",
    "Quelques autres particularités des transactions Redis:\n",
    "- Les commandes EXEC et DISCARD terminent le bloc de transaction ouvert.\n",
    "- La commande EXEC retourne les retours de chaques commandes de la transactions.\n",
    "- Les transactions Redis sont atomiques, c'est à dire que soit toutes les commandes sont effectivement éxécutées, soit aucune ne l'est.\n",
    "\n",
    "Example de transaction simple:\n",
    "```shell=\n",
    "> MULTI\n",
    "OK\n",
    "> INCR foo\n",
    "QUEUED\n",
    "> INCR bar\n",
    "QUEUED\n",
    "> EXEC\n",
    "1) (integer) 1\n",
    "2) (integer) 1\n",
    "```\n",
    "Example de transaction avec DISCARD:\n",
    "```shell=\n",
    "> SET foo 1\n",
    "OK\n",
    "> MULTI\n",
    "OK\n",
    "> INCR foo\n",
    "QUEUED\n",
    "> DISCARD\n",
    "OK\n",
    "> GET foo\n",
    "\"1\"\n",
    "```\n",
    "\n",
    "# Partitionnement\n",
    "\n",
    "Le partitionnement permet de fractionner les données en plusieurs instances Redis de telle sorte que chaque instance ne contienne qu'un seul sous-ensemble de clés.\n",
    "\n",
    "Le partitionnement dans Redis a deux objectifs principaux:\n",
    "\n",
    "* Il permet avant tout de créer des bases de données beaucoup plus volumineuses, en utilisant la mémoire combinée de plusieurs ordinateurs. Sans partitionnement, nous serions limité à la quantité de mémoire d'une seule machine.\n",
    "\n",
    "-  Il permet de dimensionner la puissance de calcul sur plusieurs cœurs et plusieurs ordinateurs.  On utilise ainsi la bande passante réseau sur plusieurs ordinateurs et adaptateurs réseau comme un bus de communication.\n",
    "       \n",
    "Une alternative au partitionnement par plage est le partitionnement par hachage. Ce schéma fonctionne avec n'importe quelle clé, sans nécessiter de clé. \n",
    "\n",
    "Dans les cas les plus poussées et que nous ne développerons pas ici, nous pouvons également mentionner le hachage cohérent, forme avancée de partitionnement de hachage, qui nous semble être un sujet d'approfondissement pertinent.\n",
    "\n",
    "Le partitionnement proposé par Redis possède néanmoins certaines limites qu'il est important de connaitre:\n",
    "\n",
    "- Les opérations impliquant plusieurs clés ne sont généralement pas prises en charge. Par exemple, nous ne pouvons pas effectuer l'intersection entre deux ensembles s'ils sont stockés dans des clés mappées sur différentes instances Redis (il n'existe aucune manière directe de le faire).\n",
    "\n",
    "- Les transactions Redis impliquant plusieurs clés ne peuvent pas être utilisées car la granularité du partitionnement est située dans ces clés, il est donc impossible de partager un jeu de données avec une seule clé énorme comme s'il s'agissait d'un seul très grand jeu trié.\n",
    "\n",
    "- Lorsque le partitionnement est utilisé, la gestion des données est plus complexe. Par exemple, il nous faut gérer plusieurs fichiers RDB / AOF et pour effectuer une sauvegarde des données, nous devons agréger les fichiers de persistance de plusieurs instances et hôtes.\n",
    "\n",
    "- Enfin, l'ajout et la suppression des capacités peut être complexe. Par exemple, le cluster Redis prend en charge principalement le rééquilibrage transparent des données avec la possibilité d'ajouter et de supprimer des nœuds au moment de l'exécution, mais d'autres systèmes, tel que le partitionnement côté client, ne premet pas cette fonctionnalité. Sur ce dernier point, une des solutions serait d'utiliser une technique de prédécoupage, chose que nous n'avons pas testé.\n",
    "\n",
    "\n"
   ]
  },
  {
   "cell_type": "code",
   "execution_count": null,
   "metadata": {},
   "outputs": [],
   "source": []
  }
 ],
 "metadata": {
  "kernelspec": {
   "display_name": "Python 3",
   "language": "python",
   "name": "python3"
  },
  "language_info": {
   "codemirror_mode": {
    "name": "ipython",
    "version": 3
   },
   "file_extension": ".py",
   "mimetype": "text/x-python",
   "name": "python",
   "nbconvert_exporter": "python",
   "pygments_lexer": "ipython3",
   "version": "3.6.7"
  }
 },
 "nbformat": 4,
 "nbformat_minor": 2
}
