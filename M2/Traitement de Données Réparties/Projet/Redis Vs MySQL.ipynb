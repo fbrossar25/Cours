{
 "cells": [
  {
   "cell_type": "code",
   "execution_count": 1,
   "metadata": {},
   "outputs": [
    {
     "name": "stdout",
     "output_type": "stream",
     "text": [
      "Requirement already satisfied: redis in ./venv/lib/python3.6/site-packages (3.2.1)\n",
      "Requirement already satisfied: pymysql in ./venv/lib/python3.6/site-packages (0.9.3)\n"
     ]
    }
   ],
   "source": [
    "!pip install redis\n",
    "!pip install pymysql"
   ]
  },
  {
   "cell_type": "code",
   "execution_count": 2,
   "metadata": {},
   "outputs": [
    {
     "name": "stdout",
     "output_type": "stream",
     "text": [
      "mysql: [Warning] Using a password on the command line interface can be insecure.\n",
      "(('foo', 2019, 'bar', 'baz'),)\n",
      "True\n",
      "b'bar'\n",
      "1\n",
      "None\n"
     ]
    }
   ],
   "source": [
    "import redis, json, time, pymysql\n",
    "DB_Redis = redis.Redis(host='localhost', port=6379, db=0)\n",
    "DB_MYSQL = pymysql.connect(\"localhost\",\"tdr\",\"tdr\", \"tdr\")\n",
    "\n",
    "!mysql -utdr -ptdr tdr < db.sql\n",
    "\n",
    "def empty_mysql(table=\"films\"):\n",
    "    cur = DB_MYSQL.cursor()\n",
    "    cur.execute('DELETE FROM {} WHERE 1=1'.format(table))\n",
    "    DB_MYSQL.commit()\n",
    "    cur.close()\n",
    "\n",
    "def empty_redis(table = \"\"):\n",
    "    if table.strip() == \"\":\n",
    "        return DB_Redis.flushall()\n",
    "    else:\n",
    "        return DB_Redis.delete(*DB_Redis.keys(\"{}:*\".format(table)))\n",
    "    \n",
    "cur = DB_MYSQL.cursor()\n",
    "cur.execute(\"INSERT INTO films (title,year,genre_list,cast_list) VALUES('foo', 2019, 'bar', 'baz')\")\n",
    "DB_MYSQL.commit()\n",
    "cur.close()\n",
    "cur = DB_MYSQL.cursor()\n",
    "cur.execute('SELECT title,year,genre_list,cast_list FROM films')\n",
    "print(cur.fetchall())\n",
    "cur.close()\n",
    "empty_mysql()\n",
    "print(DB_Redis.set('foo','bar'))\n",
    "print(DB_Redis.get('foo'))\n",
    "print(DB_Redis.delete('foo'))\n",
    "print(DB_Redis.get('foo'))"
   ]
  },
  {
   "cell_type": "code",
   "execution_count": 3,
   "metadata": {},
   "outputs": [
    {
     "name": "stdout",
     "output_type": "stream",
     "text": [
      "{'title': 'After Dark in Central Park', 'year': 1900, 'cast': [], 'genres': []}\n"
     ]
    }
   ],
   "source": [
    "with open('movies.json') as f:\n",
    "    datas_json = json.load(f)\n",
    "print(datas_json[0])"
   ]
  },
  {
   "cell_type": "code",
   "execution_count": 4,
   "metadata": {},
   "outputs": [
    {
     "name": "stdout",
     "output_type": "stream",
     "text": [
      "Nombre de clés Redis après nettoyage : 0 \n",
      "Insertions de 28795 films dans Redis : 2.195 secondes\n",
      "26791 films dans Redis\n"
     ]
    }
   ],
   "source": [
    "empty_redis()\n",
    "print(\"Nombre de clés Redis après nettoyage : {} \".format(len(DB_Redis.keys('*'))))\n",
    "t = time.time()\n",
    "for film in datas_json:\n",
    "    DB_Redis.set('films:{}'.format(film['title']), json.dumps(film))\n",
    "t = time.time() - t\n",
    "print('Insertions de {} films dans Redis : {:0.03f} secondes'.format(len(datas_json), t))\n",
    "\n",
    "print('{} films dans Redis'.format(len(DB_Redis.keys('films:*'))))\n",
    "#avatar = json.loads(DB_Redis.get('Avatar'))\n",
    "#print(avatar['year'])"
   ]
  },
  {
   "cell_type": "code",
   "execution_count": 5,
   "metadata": {},
   "outputs": [],
   "source": [
    "def mysql_insert_update(sql,values=None):\n",
    "    try:\n",
    "        # create a new cursor\n",
    "        cur = DB_MYSQL.cursor()\n",
    "        if values is None:\n",
    "            cur.execute(sql)\n",
    "        elif isinstance(values, list):      \n",
    "            # execute the INSERT statement\n",
    "            cur.executemany(sql,values)\n",
    "        else:\n",
    "            cur.execute(sql,value)\n",
    "        # commit the changes to the database\n",
    "        DB_MYSQL.commit()\n",
    "        # close communication with the database\n",
    "        cur.close()\n",
    "    except (Exception) as error:\n",
    "        print(error)"
   ]
  },
  {
   "cell_type": "code",
   "execution_count": 7,
   "metadata": {},
   "outputs": [
    {
     "name": "stdout",
     "output_type": "stream",
     "text": [
      "('After Dark in Central Park', '1900', '[]', '[]')\n",
      "Insertions de 28795 films dans MySQL : 0.471 secondes\n",
      "28795 films dans MySQL\n"
     ]
    }
   ],
   "source": [
    "empty_mysql()\n",
    "datas_tuple = []\n",
    "for film in datas_json:\n",
    "    datas_tuple.append((film['title'],str(film['year']),json.dumps(film['genres']),json.dumps(film['cast'])))\n",
    "print(datas_tuple[0])\n",
    "t = time.time()\n",
    "mysql_insert_update(\"INSERT INTO films(title,year,genre_list,cast_list) VALUES(%s,%s,%s,%s)\", datas_tuple)\n",
    "t = time.time() - t\n",
    "print('Insertions de {} films dans MySQL : {:0.03f} secondes'.format(len(datas_json), t))\n",
    "\n",
    "cur = DB_MYSQL.cursor()\n",
    "cur.execute('SELECT title,year,genre_list,cast_list FROM films')\n",
    "print('{} films dans MySQL'.format(cur.rowcount))\n",
    "cur.close()"
   ]
  },
  {
   "cell_type": "code",
   "execution_count": 13,
   "metadata": {},
   "outputs": [
    {
     "name": "stdout",
     "output_type": "stream",
     "text": [
      "mysql: [Warning] Using a password on the command line interface can be insecure.\r\n"
     ]
    }
   ],
   "source": [
    "#Création de la base de données optimisée pour la recherche des castings avec MySQL\n",
    "!mysql -utdr -ptdr tdr < db2.sql"
   ]
  },
  {
   "cell_type": "code",
   "execution_count": 14,
   "metadata": {},
   "outputs": [],
   "source": [
    "films = []\n",
    "casts = {}\n",
    "for film in datas_json:\n",
    "    films.append((film['title'],str(film['year']),json.dumps(film['genres'])))\n",
    "    casts[film['title']] = film['cast']\n"
   ]
  },
  {
   "cell_type": "code",
   "execution_count": 20,
   "metadata": {},
   "outputs": [
    {
     "name": "stdout",
     "output_type": "stream",
     "text": [
      "Insertions de 28795 castings dans Redis : 2.186 secondes\n",
      "Casting du film Avatar : ['Sam Worthington', 'Zoe Saldana', 'Sigourney Weaver', 'Michelle Rodriguez', 'Stephen Lang', 'Laz Alonso', 'Giovanni Ribisi', 'Joel Moore', 'Wes Studi']\n"
     ]
    }
   ],
   "source": [
    "#Version optimisés pour la recherche des castings en NoSQL\n",
    "empty_redis('casts')\n",
    "t = time.time()\n",
    "for film in datas_json:\n",
    "    cast = film['cast'] if film['cast'] is not None else '[]'\n",
    "    DB_Redis.set('casts:{}'.format(film['title']), json.dumps(film['cast']))\n",
    "t = time.time() - t\n",
    "print('Insertions de {} castings dans Redis : {:0.03f} secondes'.format(len(datas_json), t))\n",
    "print('Casting du film Avatar : {}'.format(json.loads(DB_Redis.get('casts:Avatar'))))"
   ]
  },
  {
   "cell_type": "code",
   "execution_count": null,
   "metadata": {},
   "outputs": [],
   "source": []
  }
 ],
 "metadata": {
  "kernelspec": {
   "display_name": "Python 3",
   "language": "python",
   "name": "python3"
  },
  "language_info": {
   "codemirror_mode": {
    "name": "ipython",
    "version": 3
   },
   "file_extension": ".py",
   "mimetype": "text/x-python",
   "name": "python",
   "nbconvert_exporter": "python",
   "pygments_lexer": "ipython3",
   "version": "3.6.7"
  }
 },
 "nbformat": 4,
 "nbformat_minor": 2
}
