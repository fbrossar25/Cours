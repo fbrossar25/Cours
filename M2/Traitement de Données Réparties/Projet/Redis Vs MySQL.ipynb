{
 "cells": [
  {
   "cell_type": "code",
   "execution_count": 1,
   "metadata": {},
   "outputs": [
    {
     "name": "stdout",
     "output_type": "stream",
     "text": [
      "Requirement already satisfied: redis in /home/florian/anaconda3/lib/python3.7/site-packages (3.2.1)\n",
      "Requirement already satisfied: pymysql in /home/florian/anaconda3/lib/python3.7/site-packages (0.9.3)\n"
     ]
    }
   ],
   "source": [
    "!pip install redis\n",
    "!pip install pymysql"
   ]
  },
  {
   "cell_type": "code",
   "execution_count": 12,
   "metadata": {},
   "outputs": [
    {
     "name": "stderr",
     "output_type": "stream",
     "text": [
      "IOPub data rate exceeded.\n",
      "The notebook server will temporarily stop sending output\n",
      "to the client in order to avoid crashing it.\n",
      "To change this limit, set the config variable\n",
      "`--NotebookApp.iopub_data_rate_limit`.\n",
      "\n",
      "Current values:\n",
      "NotebookApp.iopub_data_rate_limit=1000000.0 (bytes/sec)\n",
      "NotebookApp.rate_limit_window=3.0 (secs)\n",
      "\n"
     ]
    }
   ],
   "source": [
    "import redis, json, time, pymysql\n",
    "DB_Redis = redis.Redis(host='localhost', port=6379, db=0)\n",
    "DB_MYSQL = pymysql.connect(\"localhost\",\"tdr\",\"tdr\", \"tdr\")\n",
    "\n",
    "def empty_mysql():\n",
    "    cur = DB_MYSQL.cursor()\n",
    "    cur.execute('DELETE FROM films WHERE 1=1')\n",
    "    DB_MYSQL.commit()\n",
    "    cur.close()\n",
    "\n",
    "cur = DB_MYSQL.cursor()\n",
    "cur.execute(\"INSERT INTO films (title,year,genre_list,cast_list) VALUES('foo', 2019, 'bar', 'baz')\")\n",
    "DB_MYSQL.commit()\n",
    "cur.close()\n",
    "cur = DB_MYSQL.cursor()\n",
    "cur.execute('SELECT title,year,genre_list,cast_list FROM films')\n",
    "print(cur.fetchall())\n",
    "cur.close()\n",
    "empty_mysql()\n",
    "print(DB_Redis.set('foo','bar'))\n",
    "print(DB_Redis.get('foo'))\n",
    "print(DB_Redis.delete('foo'))\n",
    "print(DB_Redis.get('foo'))"
   ]
  },
  {
   "cell_type": "code",
   "execution_count": 8,
   "metadata": {},
   "outputs": [
    {
     "name": "stdout",
     "output_type": "stream",
     "text": [
      "{'title': 'After Dark in Central Park', 'year': 1900, 'cast': [], 'genres': []}\n"
     ]
    }
   ],
   "source": [
    "with open('movies.json') as f:\n",
    "    datas_json = json.load(f)\n",
    "print(datas_json[0])"
   ]
  },
  {
   "cell_type": "code",
   "execution_count": 9,
   "metadata": {},
   "outputs": [
    {
     "name": "stdout",
     "output_type": "stream",
     "text": [
      "Insertions de 28795 films dans Redis : 2.004 secondes\n"
     ]
    }
   ],
   "source": [
    "t = time.time()\n",
    "for film in datas_json:\n",
    "    DB_Redis.set(film['title'], json.dumps(film))\n",
    "t = time.time() - t\n",
    "print('Insertions de {} films dans Redis : {:0.03f} secondes'.format(len(datas_json), t))\n",
    "#avatar = json.loads(DB_Redis.get('Avatar'))\n",
    "#print(avatar['year'])"
   ]
  },
  {
   "cell_type": "code",
   "execution_count": 11,
   "metadata": {},
   "outputs": [
    {
     "name": "stdout",
     "output_type": "stream",
     "text": [
      "('After Dark in Central Park', '1900', '[]', '[]')\n",
      "Insertions de 28795 films dans MySQL : 0.620 secondes\n",
      "57590 films dans MySQL\n"
     ]
    }
   ],
   "source": [
    "empty_mysql()\n",
    "datas_tuple = []\n",
    "for film in datas_json:\n",
    "    datas_tuple.append((film['title'],str(film['year']),json.dumps(film['genres']),json.dumps(film['cast'])))\n",
    "print(datas_tuple[0])\n",
    "t = time.time()\n",
    "sql = \"INSERT INTO films(title,year,genre_list,cast_list) VALUES(%s,%s,%s,%s)\"\n",
    "try:\n",
    "    # create a new cursor\n",
    "    cur = DB_MYSQL.cursor()\n",
    "    # execute the INSERT statement\n",
    "    cur.executemany(sql,datas_tuple)\n",
    "    # commit the changes to the database\n",
    "    DB_MYSQL.commit()\n",
    "    # close communication with the database\n",
    "    cur.close()\n",
    "except (Exception, psycopg2.DatabaseError) as error:\n",
    "    print(error)\n",
    "t = time.time() - t\n",
    "print('Insertions de {} films dans MySQL : {:0.03f} secondes'.format(len(datas_json), t))\n",
    "cur = DB_MYSQL.cursor()\n",
    "cur.execute('SELECT title,year,genre_list,cast_list FROM films')\n",
    "print('{} films dans MySQL'.format(cur.rowcount))\n",
    "cur.close()"
   ]
  },
  {
   "cell_type": "code",
   "execution_count": null,
   "metadata": {},
   "outputs": [],
   "source": []
  }
 ],
 "metadata": {
  "kernelspec": {
   "display_name": "Python 3",
   "language": "python",
   "name": "python3"
  },
  "language_info": {
   "codemirror_mode": {
    "name": "ipython",
    "version": 3
   },
   "file_extension": ".py",
   "mimetype": "text/x-python",
   "name": "python",
   "nbconvert_exporter": "python",
   "pygments_lexer": "ipython3",
   "version": "3.7.1"
  }
 },
 "nbformat": 4,
 "nbformat_minor": 2
}
