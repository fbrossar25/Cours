{
 "cells": [
  {
   "cell_type": "markdown",
   "metadata": {
    "slideshow": {
     "slide_type": "slide"
    }
   },
   "source": [
    "# Installation with conda\n",
    "\n",
    "- **Conda is already installed on workstations.**\n",
    "\n",
    "- Steps below are for students who prefer to use their personal laptops"
   ]
  },
  {
   "cell_type": "markdown",
   "metadata": {
    "slideshow": {
     "slide_type": "slide"
    }
   },
   "source": [
    "##  Install [Anaconda](https://www.anaconda.com/downloads) (large) or [Miniconda](https://conda.io/miniconda.html) (small)\n",
    "\n"
   ]
  },
  {
   "cell_type": "markdown",
   "metadata": {
    "slideshow": {
     "slide_type": "slide"
    }
   },
   "source": [
    "##  Open a terminal (Linux/MacOSX) or a conda prompt (Windows)"
   ]
  },
  {
   "cell_type": "markdown",
   "metadata": {
    "slideshow": {
     "slide_type": "slide"
    }
   },
   "source": [
    "##  Managing packages with conda\n",
    "\n",
    "* Use conda-forge channel\n",
    "```sh\n",
    "conda config --add channels conda-forge\n",
    "```\n",
    "\n",
    "* List all packages\n",
    "```sh\n",
    "conda list\n",
    "```\n",
    "\n",
    "* Search a package\n",
    "```sh\n",
    "conda search jupyter\n",
    "```\n",
    "\n",
    "You can also update or remove, check the [documentation](https://conda.io/docs/using/pkgs.html)."
   ]
  },
  {
   "cell_type": "markdown",
   "metadata": {
    "slideshow": {
     "slide_type": "slide"
    }
   },
   "source": [
    "## Create a new conda environment from file\n",
    "\n",
    "```bash\n",
    "cd big-data\n",
    "conda env create\n",
    "```\n",
    "\n",
    "[Conda envs documentation](https://conda.io/docs/using/envs.html)."
   ]
  },
  {
   "cell_type": "markdown",
   "metadata": {
    "slideshow": {
     "slide_type": "slide"
    }
   },
   "source": [
    "## Activate the new environment (for all students)\n",
    "\n",
    "Activating the conda environment will change your shell’s prompt to show what virtual environment you’re using, and modify the environment so that running python will get you that particular version and installation of Python. \n",
    "<pre>\n",
    "$ conda activate big-data\n",
    "(big-data) $ python\n",
    "Python 3.6.2 (default, Jul 17 2017, 16:44:45) \n",
    "[GCC 4.2.1 Compatible Apple LLVM 8.1.0 (clang-802.0.42)] on darwin\n",
    "Type \"help\", \"copyright\", \"credits\" or \"license\" for more information.\n",
    ">>> quit()\n",
    "</pre>\n",
    "\n",
    "\n",
    "\n",
    "**You must do this everytime you open a new terminal**"
   ]
  },
  {
   "cell_type": "markdown",
   "metadata": {},
   "source": [
    "## Create the kernel on jupyter\n",
    "\n",
    "```bash\n",
    "python -m ipykernel install --user \\\n",
    "       --name big-data \\\n",
    "       --display-name \"Python (big-data)\"\n",
    "```"
   ]
  }
 ],
 "metadata": {
  "kernelspec": {
   "display_name": "Python 3",
   "language": "python",
   "name": "python3"
  },
  "language_info": {
   "codemirror_mode": {
    "name": "ipython",
    "version": 3
   },
   "file_extension": ".py",
   "mimetype": "text/x-python",
   "name": "python",
   "nbconvert_exporter": "python",
   "pygments_lexer": "ipython3",
   "version": "3.7.1"
  }
 },
 "nbformat": 4,
 "nbformat_minor": 2
}
