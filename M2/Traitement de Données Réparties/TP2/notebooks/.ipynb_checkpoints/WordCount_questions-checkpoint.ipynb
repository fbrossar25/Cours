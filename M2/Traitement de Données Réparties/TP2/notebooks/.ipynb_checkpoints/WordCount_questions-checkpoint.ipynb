{
 "cells": [
  {
   "cell_type": "markdown",
   "metadata": {
    "slideshow": {
     "slide_type": "slide"
    }
   },
   "source": [
    "Some recommendations:\n",
    "\n",
    "- *Do not try to find a clever or optimized solution, do something that works before.*\n",
    "- *Please don't get the solution from your colleagues*"
   ]
  },
  {
   "cell_type": "markdown",
   "metadata": {
    "slideshow": {
     "slide_type": "slide"
    }
   },
   "source": [
    "# Wordcount\n",
    "\n",
    "- [Wikipedia](https://en.wikipedia.org/wiki/Word_count)\n",
    "\n",
    "- Word count example reads text files and counts how often words occur. \n",
    "- Word count is commonly used by translators to determine the price for the translation job.\n",
    "- This is the \"Hello World\" program of Big Data."
   ]
  },
  {
   "cell_type": "markdown",
   "metadata": {
    "slideshow": {
     "slide_type": "slide"
    }
   },
   "source": [
    "# Create sample text file"
   ]
  },
  {
   "cell_type": "code",
   "execution_count": 30,
   "metadata": {
    "slideshow": {
     "slide_type": "fragment"
    }
   },
   "outputs": [],
   "source": [
    "from lorem import text\n",
    "\n",
    "with open(\"sample.txt\", \"w\") as f:\n",
    "    for i in range(10000):\n",
    "        f.write(text())"
   ]
  },
  {
   "cell_type": "markdown",
   "metadata": {
    "slideshow": {
     "slide_type": "slide"
    }
   },
   "source": [
    "### Exercise 1\n",
    "\n",
    "Write a python program that counts the number of lines, words and characters in that file."
   ]
  },
  {
   "cell_type": "code",
   "execution_count": 10,
   "metadata": {
    "scrolled": true,
    "slideshow": {
     "slide_type": "fragment"
    }
   },
   "outputs": [
    {
     "name": "stdout",
     "output_type": "stream",
     "text": [
      "   70036  2013573 14225998 sample.txt\n",
      "70036 sample.txt\n",
      "2013573 sample.txt\n",
      "14M\tsample.txt\n"
     ]
    }
   ],
   "source": [
    "%%bash\n",
    "wc sample.txt\n",
    "wc -l sample.txt\n",
    "wc -w sample.txt\n",
    "du -h sample.txt"
   ]
  },
  {
   "cell_type": "markdown",
   "metadata": {},
   "source": [
    "- Compute number of lines"
   ]
  },
  {
   "cell_type": "code",
   "execution_count": 8,
   "metadata": {},
   "outputs": [
    {
     "name": "stdout",
     "output_type": "stream",
     "text": [
      "70037  lignes\n"
     ]
    }
   ],
   "source": [
    "with open(\"sample.txt\") as f:\n",
    "    lines = list(f)\n",
    "print(len(lines), \" lignes\") "
   ]
  },
  {
   "cell_type": "markdown",
   "metadata": {},
   "source": [
    "- Compute number of words"
   ]
  },
  {
   "cell_type": "code",
   "execution_count": 2,
   "metadata": {},
   "outputs": [
    {
     "ename": "SyntaxError",
     "evalue": "invalid syntax (<ipython-input-2-475c949b0431>, line 1)",
     "output_type": "error",
     "traceback": [
      "\u001b[0;36m  File \u001b[0;32m\"<ipython-input-2-475c949b0431>\"\u001b[0;36m, line \u001b[0;32m1\u001b[0m\n\u001b[0;31m    nwords = # ...\u001b[0m\n\u001b[0m                  ^\u001b[0m\n\u001b[0;31mSyntaxError\u001b[0m\u001b[0;31m:\u001b[0m invalid syntax\n"
     ]
    }
   ],
   "source": [
    "import re\n",
    "nwords = 0\n",
    "regexp = re.compile(\"\\s+\")\n",
    "for line in lines\n",
    "    nwords += len(re.split(line))\n",
    "print(nwords, \" mots\")"
   ]
  },
  {
   "cell_type": "code",
   "execution_count": 7,
   "metadata": {},
   "outputs": [
    {
     "data": {
      "text/plain": [
       "1000"
      ]
     },
     "execution_count": 7,
     "metadata": {},
     "output_type": "execute_result"
    }
   ],
   "source": [
    "nchars = 0\n",
    "for line in lines:\n",
    "  # ...\n",
    "  # ... \n",
    "\n",
    "        \n",
    "nchars"
   ]
  },
  {
   "cell_type": "markdown",
   "metadata": {},
   "source": [
    "- `set` gives the list of unique elements from words list. "
   ]
  },
  {
   "cell_type": "code",
   "execution_count": 8,
   "metadata": {},
   "outputs": [
    {
     "data": {
      "text/plain": [
       "{'Dolor',\n",
       " 'Est',\n",
       " 'Ipsum',\n",
       " 'Neque',\n",
       " 'Numquam',\n",
       " 'Tempora',\n",
       " 'adipisci',\n",
       " 'amet',\n",
       " 'amet.',\n",
       " 'dolore',\n",
       " 'eius',\n",
       " 'est',\n",
       " 'est.',\n",
       " 'ipsum',\n",
       " 'labore.',\n",
       " 'magnam',\n",
       " 'modi',\n",
       " 'neque',\n",
       " 'non',\n",
       " 'numquam',\n",
       " 'numquam.',\n",
       " 'quaerat',\n",
       " 'quiquia',\n",
       " 'tempora',\n",
       " 'tempora.',\n",
       " 'ut.',\n",
       " 'velit',\n",
       " 'velit.',\n",
       " 'voluptatem'}"
      ]
     },
     "execution_count": 8,
     "metadata": {},
     "output_type": "execute_result"
    }
   ],
   "source": [
    "s = set(words)\n",
    "s"
   ]
  },
  {
   "cell_type": "markdown",
   "metadata": {
    "slideshow": {
     "slide_type": "slide"
    }
   },
   "source": [
    "### Exercise 2\n",
    "\n",
    "Create a function called `wordcount` that take a file name as argument and return a lists containing all words as items.\n",
    "\n",
    "```pytb\n",
    "wordcount(\"sample.txt\")\n",
    "['labore', 'modi', 'ipsum', 'eius', 'eius', 'tempora', 'sed']\n",
    "```"
   ]
  },
  {
   "cell_type": "code",
   "execution_count": 6,
   "metadata": {},
   "outputs": [
    {
     "data": {
      "text/plain": [
       "['adipisci',\n",
       " 'adipisci',\n",
       " 'adipisci',\n",
       " 'adipisci',\n",
       " 'adipisci',\n",
       " 'adipisci',\n",
       " 'adipisci',\n",
       " 'aliquam',\n",
       " 'aliquam',\n",
       " 'aliquam',\n",
       " 'aliquam',\n",
       " 'aliquam',\n",
       " 'aliquam',\n",
       " 'aliquam',\n",
       " 'aliquam',\n",
       " 'aliquam',\n",
       " 'amet',\n",
       " 'amet',\n",
       " 'amet',\n",
       " 'amet',\n",
       " 'amet',\n",
       " 'consectetur',\n",
       " 'consectetur',\n",
       " 'consectetur',\n",
       " 'consectetur',\n",
       " 'consectetur',\n",
       " 'consectetur',\n",
       " 'dolor',\n",
       " 'dolor',\n",
       " 'dolor',\n",
       " 'dolor',\n",
       " 'dolor',\n",
       " 'dolor',\n",
       " 'dolor',\n",
       " 'dolor',\n",
       " 'dolore',\n",
       " 'dolore',\n",
       " 'dolore',\n",
       " 'dolore',\n",
       " 'dolorem',\n",
       " 'dolorem',\n",
       " 'dolorem',\n",
       " 'dolorem',\n",
       " 'dolorem',\n",
       " 'dolorem',\n",
       " 'eius',\n",
       " 'eius',\n",
       " 'eius',\n",
       " 'eius',\n",
       " 'est',\n",
       " 'est',\n",
       " 'est',\n",
       " 'est',\n",
       " 'est',\n",
       " 'est',\n",
       " 'est',\n",
       " 'est',\n",
       " 'est',\n",
       " 'est',\n",
       " 'est',\n",
       " 'est',\n",
       " 'etincidunt',\n",
       " 'etincidunt',\n",
       " 'etincidunt',\n",
       " 'etincidunt',\n",
       " 'etincidunt',\n",
       " 'ipsum',\n",
       " 'ipsum',\n",
       " 'ipsum',\n",
       " 'ipsum',\n",
       " 'ipsum',\n",
       " 'ipsum',\n",
       " 'ipsum',\n",
       " 'labore',\n",
       " 'labore',\n",
       " 'labore',\n",
       " 'labore',\n",
       " 'magnam',\n",
       " 'magnam',\n",
       " 'magnam',\n",
       " 'magnam',\n",
       " 'magnam',\n",
       " 'modi',\n",
       " 'modi',\n",
       " 'modi',\n",
       " 'modi',\n",
       " 'modi',\n",
       " 'modi',\n",
       " 'modi',\n",
       " 'neque',\n",
       " 'neque',\n",
       " 'neque',\n",
       " 'neque',\n",
       " 'neque',\n",
       " 'neque',\n",
       " 'neque',\n",
       " 'neque',\n",
       " 'neque',\n",
       " 'non',\n",
       " 'non',\n",
       " 'non',\n",
       " 'numquam',\n",
       " 'numquam',\n",
       " 'numquam',\n",
       " 'numquam',\n",
       " 'numquam',\n",
       " 'numquam',\n",
       " 'porro',\n",
       " 'porro',\n",
       " 'porro',\n",
       " 'porro',\n",
       " 'porro',\n",
       " 'quaerat',\n",
       " 'quaerat',\n",
       " 'quaerat',\n",
       " 'quaerat',\n",
       " 'quaerat',\n",
       " 'quiquia',\n",
       " 'quiquia',\n",
       " 'quiquia',\n",
       " 'quiquia',\n",
       " 'quisquam',\n",
       " 'quisquam',\n",
       " 'quisquam',\n",
       " 'quisquam',\n",
       " 'quisquam',\n",
       " 'quisquam',\n",
       " 'quisquam',\n",
       " 'quisquam',\n",
       " 'sed',\n",
       " 'sed',\n",
       " 'sed',\n",
       " 'sed',\n",
       " 'sed',\n",
       " 'sit',\n",
       " 'sit',\n",
       " 'sit',\n",
       " 'sit',\n",
       " 'tempora',\n",
       " 'tempora',\n",
       " 'tempora',\n",
       " 'tempora',\n",
       " 'tempora',\n",
       " 'tempora',\n",
       " 'tempora',\n",
       " 'ut',\n",
       " 'ut',\n",
       " 'ut',\n",
       " 'ut',\n",
       " 'velit',\n",
       " 'velit',\n",
       " 'velit',\n",
       " 'velit',\n",
       " 'velit',\n",
       " 'velit',\n",
       " 'voluptatem',\n",
       " 'voluptatem',\n",
       " 'voluptatem',\n",
       " 'voluptatem',\n",
       " 'voluptatem',\n",
       " 'voluptatem',\n",
       " 'voluptatem',\n",
       " 'voluptatem']"
      ]
     },
     "execution_count": 6,
     "metadata": {},
     "output_type": "execute_result"
    }
   ],
   "source": [
    "def wordcount(filename):\n",
    "    \"\"\" take a file name as argument and return a \n",
    "    lists containing all words as item\n",
    "    \"\"\"\n",
    "    # ...\n",
    "\n",
    "wordcount(\"sample.txt\")"
   ]
  },
  {
   "cell_type": "markdown",
   "metadata": {
    "slideshow": {
     "slide_type": "slide"
    }
   },
   "source": [
    "## Sorting a dictionary by value\n",
    "\n",
    "By default, if you use `sorted` function on a `dict`, it will use keys to sort it.\n",
    "To sort by values, you can use [operator](https://docs.python.org/3.6/library/operator.html).itemgetter(1)\n",
    "Return a callable object that fetches item from its operand using the operand’s `__getitem__(` method. It could be used to sort results."
   ]
  },
  {
   "cell_type": "code",
   "execution_count": 7,
   "metadata": {
    "slideshow": {
     "slide_type": "fragment"
    }
   },
   "outputs": [
    {
     "data": {
      "text/plain": [
       "{'orange': 1, 'banana': 2, 'apple': 3, 'pear': 5}"
      ]
     },
     "execution_count": 7,
     "metadata": {},
     "output_type": "execute_result"
    }
   ],
   "source": [
    "import operator\n",
    "fruits = [('apple', 3), ('banana', 2), ('pear', 5), ('orange', 1)]\n",
    "getcount = operator.itemgetter(1)\n",
    "dict(sorted(fruits, key=getcount))"
   ]
  },
  {
   "cell_type": "markdown",
   "metadata": {
    "slideshow": {
     "slide_type": "fragment"
    }
   },
   "source": [
    "`sorted` function has also a `reverse` optional argument."
   ]
  },
  {
   "cell_type": "code",
   "execution_count": 8,
   "metadata": {
    "slideshow": {
     "slide_type": "fragment"
    }
   },
   "outputs": [
    {
     "data": {
      "text/plain": [
       "{'pear': 5, 'apple': 3, 'banana': 2, 'orange': 1}"
      ]
     },
     "execution_count": 8,
     "metadata": {},
     "output_type": "execute_result"
    }
   ],
   "source": [
    "dict(sorted(fruits, key=getcount, reverse=True))"
   ]
  },
  {
   "cell_type": "markdown",
   "metadata": {
    "slideshow": {
     "slide_type": "slide"
    }
   },
   "source": [
    "### Exercise 3\n",
    "\n",
    "Modify the function `wordcount` to reduce the list of words and return a dictionary containing all words as keys and number of occurrences as values.\n",
    "\n",
    "```pybt\n",
    "wordcount('sample.txt')\n",
    "{'tempora': 2, 'non': 1, 'quisquam': 1, 'amet': 1, 'sit': 1}\n",
    "```"
   ]
  },
  {
   "cell_type": "code",
   "execution_count": 9,
   "metadata": {},
   "outputs": [
    {
     "data": {
      "text/plain": [
       "{'est': 12,\n",
       " 'aliquam': 9,\n",
       " 'neque': 9,\n",
       " 'dolor': 8,\n",
       " 'quisquam': 8,\n",
       " 'voluptatem': 8,\n",
       " 'adipisci': 7,\n",
       " 'ipsum': 7,\n",
       " 'modi': 7,\n",
       " 'tempora': 7,\n",
       " 'consectetur': 6,\n",
       " 'dolorem': 6,\n",
       " 'numquam': 6,\n",
       " 'velit': 6,\n",
       " 'amet': 5,\n",
       " 'etincidunt': 5,\n",
       " 'magnam': 5,\n",
       " 'porro': 5,\n",
       " 'quaerat': 5,\n",
       " 'sed': 5,\n",
       " 'dolore': 4,\n",
       " 'eius': 4,\n",
       " 'labore': 4,\n",
       " 'quiquia': 4,\n",
       " 'sit': 4,\n",
       " 'ut': 4,\n",
       " 'non': 3}"
      ]
     },
     "execution_count": 9,
     "metadata": {},
     "output_type": "execute_result"
    }
   ],
   "source": [
    "def reduce(sorted_words):\n",
    "    \" Compute word occurences from sorted list of words\"\n",
    "    # ...\n",
    "reduce(wordcount(\"sample.txt\"))"
   ]
  },
  {
   "cell_type": "markdown",
   "metadata": {},
   "source": [
    "- Example of lambda function"
   ]
  },
  {
   "cell_type": "code",
   "execution_count": 10,
   "metadata": {},
   "outputs": [
    {
     "data": {
      "text/plain": [
       "10"
      ]
     },
     "execution_count": 10,
     "metadata": {},
     "output_type": "execute_result"
    }
   ],
   "source": [
    "f = lambda x : x*x + 1\n",
    "f(3)"
   ]
  },
  {
   "cell_type": "markdown",
   "metadata": {
    "slideshow": {
     "slide_type": "slide"
    }
   },
   "source": [
    "# Container datatypes\n",
    "\n",
    "`collection` module implements specialized container datatypes providing alternatives to Python’s general purpose built-in containers, `dict`, `list`, `set`, and `tuple`.\n",
    "\n",
    "- `defaultdict` :\tdict subclass that calls a factory function to supply missing values\n",
    "- `Counter`\t: dict subclass for counting hashable objects"
   ]
  },
  {
   "cell_type": "markdown",
   "metadata": {
    "slideshow": {
     "slide_type": "slide"
    }
   },
   "source": [
    "## defaultdict\n",
    "\n",
    "When you implement the `reduce` function you probably add some probleme to append key-value pair to your `dict`. If you try to change the value of a key that is not present \n",
    "in the dict, the key is not automatically created.\n",
    "\n",
    "The `defaultdict` is the solution. This container is a `dict` subclass that calls a factory function to supply missing values.\n",
    "For example, using list as the default_factory, it is easy to group a sequence of key-value pairs into a dictionary of lists:"
   ]
  },
  {
   "cell_type": "code",
   "execution_count": 12,
   "metadata": {
    "slideshow": {
     "slide_type": "fragment"
    }
   },
   "outputs": [
    {
     "data": {
      "text/plain": [
       "{'yellow': [1, 3], 'blue': [2, 4], 'red': [1]}"
      ]
     },
     "execution_count": 12,
     "metadata": {},
     "output_type": "execute_result"
    }
   ],
   "source": [
    "from collections import defaultdict\n",
    "s = [('yellow', 1), ('blue', 2), ('yellow', 3), ('blue', 4), ('red', 1)]\n",
    "d = defaultdict(list)\n",
    "for k, v in s:\n",
    "    d[k].append(v)\n",
    "\n",
    "dict(d)"
   ]
  },
  {
   "cell_type": "markdown",
   "metadata": {
    "slideshow": {
     "slide_type": "slide"
    }
   },
   "source": [
    "### Exercise 4\n",
    "\n",
    "- Modify the reduce part of `wordcount` function you wrote above by using a defaultdict with the most suitable factory."
   ]
  },
  {
   "cell_type": "code",
   "execution_count": 13,
   "metadata": {},
   "outputs": [
    {
     "name": "stdout",
     "output_type": "stream",
     "text": [
      "121 µs ± 2.99 µs per loop (mean ± std. dev. of 7 runs, 10000 loops each)\n"
     ]
    }
   ],
   "source": [
    "from collections import defaultdict\n",
    "\n",
    "def reduce(sorted_words):\n",
    "    \" Reduce version using defaultdict, we use factory `int`\"\n",
    "    # ...\n",
    "\n",
    "%timeit reduce(wordcount(\"sample.txt\"))"
   ]
  },
  {
   "cell_type": "markdown",
   "metadata": {
    "slideshow": {
     "slide_type": "slide"
    }
   },
   "source": [
    "## Counter\n",
    "\n",
    "A Counter is a dict subclass for counting hashable objects. It is an unordered collection where elements are stored as dictionary keys and their counts are stored as dictionary values. Counts are allowed to be any integer value including zero or negative counts.\n",
    "\n",
    "Elements are counted from an iterable or initialized from another mapping (or counter):"
   ]
  },
  {
   "cell_type": "code",
   "execution_count": 14,
   "metadata": {
    "slideshow": {
     "slide_type": "fragment"
    }
   },
   "outputs": [
    {
     "name": "stdout",
     "output_type": "stream",
     "text": [
      "{'r': 23, 'g': 13, 'b': 23}\n",
      "0\n",
      "23\n"
     ]
    }
   ],
   "source": [
    "from collections import Counter\n",
    "\n",
    "violet = dict(r=23,g=13,b=23)\n",
    "print(violet)\n",
    "cnt = Counter(violet)  # or Counter(r=238, g=130, b=238)\n",
    "print(cnt['c'])\n",
    "print(cnt['r'])"
   ]
  },
  {
   "cell_type": "code",
   "execution_count": 15,
   "metadata": {
    "slideshow": {
     "slide_type": "slide"
    }
   },
   "outputs": [
    {
     "name": "stdout",
     "output_type": "stream",
     "text": [
      "r r r r r r r r r r r r r r r r r r r r r r r g g g g g g g g g g g g g b b b b b b b b b b b b b b b b b b b b b b b\n"
     ]
    }
   ],
   "source": [
    "print(*cnt.elements())"
   ]
  },
  {
   "cell_type": "code",
   "execution_count": 16,
   "metadata": {
    "slideshow": {
     "slide_type": "fragment"
    }
   },
   "outputs": [
    {
     "data": {
      "text/plain": [
       "[('r', 23), ('b', 23)]"
      ]
     },
     "execution_count": 16,
     "metadata": {},
     "output_type": "execute_result"
    }
   ],
   "source": [
    "cnt.most_common(2)"
   ]
  },
  {
   "cell_type": "code",
   "execution_count": 17,
   "metadata": {
    "slideshow": {
     "slide_type": "fragment"
    }
   },
   "outputs": [
    {
     "data": {
      "text/plain": [
       "dict_values([23, 13, 23])"
      ]
     },
     "execution_count": 17,
     "metadata": {},
     "output_type": "execute_result"
    }
   ],
   "source": [
    "cnt.values()"
   ]
  },
  {
   "cell_type": "markdown",
   "metadata": {
    "slideshow": {
     "slide_type": "slide"
    }
   },
   "source": [
    "### Exercise 5\n",
    "\n",
    "Use a `Counter` object to count words occurences in the sample text file. "
   ]
  },
  {
   "cell_type": "code",
   "execution_count": 18,
   "metadata": {},
   "outputs": [
    {
     "name": "stdout",
     "output_type": "stream",
     "text": [
      "82.4 µs ± 733 ns per loop (mean ± std. dev. of 7 runs, 10000 loops each)\n"
     ]
    }
   ],
   "source": [
    "from collections import Counter\n",
    "\n",
    "def wordcounter(filename):\n",
    "    \n",
    "    \" Wordcount function using the Counter type from collections\"\n",
    "    \n",
    "    # ...\n",
    "\n",
    "%timeit wordcounter(\"sample.txt\")"
   ]
  },
  {
   "cell_type": "markdown",
   "metadata": {
    "slideshow": {
     "slide_type": "fragment"
    }
   },
   "source": [
    "The Counter class is similar to bags or multisets in some Python libraries or other languages. We will see later how to use Counter-like objects in a parallel context. "
   ]
  },
  {
   "cell_type": "markdown",
   "metadata": {
    "slideshow": {
     "slide_type": "slide"
    }
   },
   "source": [
    "# Process two files\n",
    "\n",
    "- Create two files containing `lorem` text named 'sample1.txt' and 'sample2.txt'\n",
    "- If you process these two files you get two dictionaries.\n",
    "- You have to loop over them to sum occurences and return the reslulted dict. To iterate on specific mappings, Python standard library provides some useful feartures in `itertools` module.\n",
    "- [itertools.chain(*mapped_values)](https://docs.python.org/3.6/library/itertools.html#itertools.chain) could be used for treating consecutive sequences as a single sequence. "
   ]
  },
  {
   "cell_type": "code",
   "execution_count": 19,
   "metadata": {
    "slideshow": {
     "slide_type": "slide"
    }
   },
   "outputs": [
    {
     "data": {
      "text/plain": [
       "{'orange': 1,\n",
       " 'spinach': 1,\n",
       " 'banana': 2,\n",
       " 'endive': 2,\n",
       " 'apple': 3,\n",
       " 'carrot': 4,\n",
       " 'pear': 5,\n",
       " 'celery': 5}"
      ]
     },
     "execution_count": 19,
     "metadata": {},
     "output_type": "execute_result"
    }
   ],
   "source": [
    "import itertools, operator\n",
    "fruits = [('apple', 3), ('banana', 2), ('pear', 5), ('orange', 1)]\n",
    "vegetables = [('endive', 2), ('spinach', 1), ('celery', 5), ('carrot', 4)]\n",
    "getcount = operator.itemgetter(1)\n",
    "dict(sorted(itertools.chain(fruits,vegetables), key=getcount))"
   ]
  },
  {
   "cell_type": "markdown",
   "metadata": {
    "slideshow": {
     "slide_type": "slide"
    }
   },
   "source": [
    "### Exercise 6\n",
    "\n",
    "- Write the program that creates both files, processes and use `itertools.chain` to get the merged word count dictionary."
   ]
  },
  {
   "cell_type": "code",
   "execution_count": 20,
   "metadata": {},
   "outputs": [],
   "source": [
    "import lorem\n",
    "\n",
    "for i in range(4): # write 4 sample text files\n",
    "    # file f\"sample{i:02d}.txt\" "
   ]
  },
  {
   "cell_type": "code",
   "execution_count": 21,
   "metadata": {
    "scrolled": true
   },
   "outputs": [
    {
     "data": {
      "text/plain": [
       "['sample06.txt',\n",
       " 'sample07.txt',\n",
       " 'sample05.txt',\n",
       " 'sample04.txt',\n",
       " 'sample00.txt',\n",
       " 'sample01.txt',\n",
       " 'sample03.txt',\n",
       " 'sample02.txt',\n",
       " 'sample.txt']"
      ]
     },
     "execution_count": 21,
     "metadata": {},
     "output_type": "execute_result"
    }
   ],
   "source": [
    "from glob import glob\n",
    "\n",
    "glob(\"*.txt\")"
   ]
  },
  {
   "cell_type": "code",
   "execution_count": 24,
   "metadata": {},
   "outputs": [
    {
     "data": {
      "text/plain": [
       "{'dolore': 21,\n",
       " 'quisquam': 21,\n",
       " 'dolorem': 20,\n",
       " 'quaerat': 20,\n",
       " 'aliquam': 19,\n",
       " 'voluptatem': 19,\n",
       " 'magnam': 18,\n",
       " 'tempora': 18,\n",
       " 'labore': 17,\n",
       " 'non': 17,\n",
       " 'dolor': 16,\n",
       " 'neque': 16,\n",
       " 'etincidunt': 15,\n",
       " 'ipsum': 15,\n",
       " 'adipisci': 13,\n",
       " 'eius': 13,\n",
       " 'modi': 13,\n",
       " 'porro': 13,\n",
       " 'sit': 13,\n",
       " 'velit': 13,\n",
       " 'amet': 11,\n",
       " 'quiquia': 11,\n",
       " 'sed': 11,\n",
       " 'est': 10,\n",
       " 'consectetur': 9,\n",
       " 'ut': 9,\n",
       " 'numquam': 7}"
      ]
     },
     "execution_count": 24,
     "metadata": {},
     "output_type": "execute_result"
    }
   ],
   "source": [
    "from itertools import chain\n",
    "\n",
    "words1 = wordcount(\"sample01.txt\")\n",
    "words2 = wordcount(\"sample02.txt\")\n",
    "\n",
    "reduce(chain(words1,words2)) # word count on two files"
   ]
  },
  {
   "cell_type": "markdown",
   "metadata": {},
   "source": [
    "- wordcount on a list of files"
   ]
  },
  {
   "cell_type": "code",
   "execution_count": 25,
   "metadata": {},
   "outputs": [
    {
     "data": {
      "text/plain": [
       "{'quisquam': 80,\n",
       " 'dolorem': 79,\n",
       " 'dolore': 74,\n",
       " 'ut': 72,\n",
       " 'porro': 71,\n",
       " 'quaerat': 71,\n",
       " 'est': 70,\n",
       " 'adipisci': 69,\n",
       " 'aliquam': 68,\n",
       " 'modi': 68,\n",
       " 'magnam': 67,\n",
       " 'tempora': 67,\n",
       " 'quiquia': 66,\n",
       " 'velit': 65,\n",
       " 'ipsum': 64,\n",
       " 'labore': 64,\n",
       " 'amet': 63,\n",
       " 'dolor': 63,\n",
       " 'numquam': 63,\n",
       " 'sed': 63,\n",
       " 'neque': 63,\n",
       " 'non': 62,\n",
       " 'consectetur': 61,\n",
       " 'etincidunt': 61,\n",
       " 'voluptatem': 61,\n",
       " 'eius': 56,\n",
       " 'sit': 54}"
      ]
     },
     "execution_count": 25,
     "metadata": {},
     "output_type": "execute_result"
    }
   ],
   "source": [
    "from itertools import chain\n",
    "from glob import glob\n",
    "\n",
    "# reduce( ...  )"
   ]
  },
  {
   "cell_type": "markdown",
   "metadata": {},
   "source": [
    "Example of string interpolation (f-strings)"
   ]
  },
  {
   "cell_type": "code",
   "execution_count": 27,
   "metadata": {},
   "outputs": [
    {
     "name": "stdout",
     "output_type": "stream",
     "text": [
      " la valeur de Pi est 003.142\n",
      " la valeur de Pi est 003.142\n",
      " la valeur de Pi est 003.142 \n"
     ]
    }
   ],
   "source": [
    "from math import pi\n",
    "\n",
    "print(f\" la valeur de Pi est {pi:07.3f}\")\n",
    "print(\" la valeur de Pi est {:07.3f}\".format(pi))\n",
    "print(\" la valeur de Pi est %07.3f \" % (pi))"
   ]
  },
  {
   "cell_type": "markdown",
   "metadata": {
    "slideshow": {
     "slide_type": "slide"
    }
   },
   "source": [
    "### Exercise 7\n",
    "\n",
    "- Modify the `wordcount` function in order to accept several files as arguments and\n",
    "return the result dict.\n",
    "\n",
    "```\n",
    "wordcount(file1, file2, file3, ...)\n",
    "```\n",
    "\n",
    "[Hint: arbitrary argument lists](https://docs.python.org/3/tutorial/controlflow.html#arbitrary-argument-lists)"
   ]
  },
  {
   "cell_type": "code",
   "execution_count": 29,
   "metadata": {},
   "outputs": [
    {
     "data": {
      "text/plain": [
       "{'quisquam': 80,\n",
       " 'dolorem': 79,\n",
       " 'dolore': 74,\n",
       " 'ut': 72,\n",
       " 'porro': 71,\n",
       " 'quaerat': 71,\n",
       " 'est': 70,\n",
       " 'adipisci': 69,\n",
       " 'aliquam': 68,\n",
       " 'modi': 68,\n",
       " 'magnam': 67,\n",
       " 'tempora': 67,\n",
       " 'quiquia': 66,\n",
       " 'velit': 65,\n",
       " 'ipsum': 64,\n",
       " 'labore': 64,\n",
       " 'amet': 63,\n",
       " 'dolor': 63,\n",
       " 'numquam': 63,\n",
       " 'sed': 63,\n",
       " 'neque': 63,\n",
       " 'non': 62,\n",
       " 'consectetur': 61,\n",
       " 'etincidunt': 61,\n",
       " 'voluptatem': 61,\n",
       " 'eius': 56,\n",
       " 'sit': 54}"
      ]
     },
     "execution_count": 29,
     "metadata": {},
     "output_type": "execute_result"
    }
   ],
   "source": [
    "from itertools import chain\n",
    "from glob import glob\n",
    "\n",
    "def wordcount(*args): # arbitrary argument list\n",
    "    \n",
    "    # MAP \n",
    "    mapped_values = []\n",
    "    for filename in args:\n",
    "        with open(filename) as f:\n",
    "       # ...\n",
    "    \n",
    "    # REDUCE \n",
    "    return reduce(chain(*mapped_values))\n",
    "\n",
    "wordcount(*glob(\"sample*.txt\"))"
   ]
  },
  {
   "cell_type": "markdown",
   "metadata": {},
   "source": [
    "- Example of use of arbitrary argument list and arbitrary named arguments."
   ]
  },
  {
   "cell_type": "code",
   "execution_count": 31,
   "metadata": {},
   "outputs": [
    {
     "name": "stdout",
     "output_type": "stream",
     "text": [
      "3\n",
      "[1, 2]\n",
      "bonjour\n",
      "{'x': 4, 'y': 'y'}\n"
     ]
    }
   ],
   "source": [
    "def func( *args, **kwargs):\n",
    "    for arg in args:\n",
    "        print(arg)\n",
    "        \n",
    "    print(kwargs)\n",
    "        \n",
    "func( \"3\", [1,2], \"bonjour\", x = 4, y = \"y\")"
   ]
  },
  {
   "cell_type": "code",
   "execution_count": 33,
   "metadata": {},
   "outputs": [
    {
     "name": "stdout",
     "output_type": "stream",
     "text": [
      "0 1 2 3 4 5 6 7 8 9\n"
     ]
    }
   ],
   "source": [
    "it = range(10)\n",
    "print(*it) # to print out an iterator you need to use the unpack operator '*'"
   ]
  },
  {
   "cell_type": "code",
   "execution_count": 34,
   "metadata": {},
   "outputs": [
    {
     "data": {
      "text/plain": [
       "['sample06.txt',\n",
       " 'sample07.txt',\n",
       " 'sample05.txt',\n",
       " 'sample04.txt',\n",
       " 'sample00.txt',\n",
       " 'sample01.txt',\n",
       " 'sample03.txt',\n",
       " 'sample02.txt',\n",
       " 'sample.txt']"
      ]
     },
     "execution_count": 34,
     "metadata": {},
     "output_type": "execute_result"
    }
   ],
   "source": [
    "files = glob(\"sample*.txt\")\n",
    "files"
   ]
  },
  {
   "cell_type": "code",
   "execution_count": 35,
   "metadata": {},
   "outputs": [
    {
     "name": "stdout",
     "output_type": "stream",
     "text": [
      "sample06.txt\n",
      "sample07.txt\n",
      "sample05.txt\n",
      "sample04.txt\n",
      "sample00.txt\n",
      "sample01.txt\n",
      "sample03.txt\n",
      "sample02.txt\n",
      "sample.txt\n",
      "{}\n"
     ]
    }
   ],
   "source": [
    "func(*files)"
   ]
  }
 ],
 "metadata": {
  "kernelspec": {
   "display_name": "Python 3",
   "language": "python",
   "name": "python3"
  },
  "language_info": {
   "codemirror_mode": {
    "name": "ipython",
    "version": 3
   },
   "file_extension": ".py",
   "mimetype": "text/x-python",
   "name": "python",
   "nbconvert_exporter": "python",
   "pygments_lexer": "ipython3",
   "version": "3.7.1"
  }
 },
 "nbformat": 4,
 "nbformat_minor": 2
}
